{
 "cells": [
  {
   "cell_type": "code",
   "execution_count": 5,
   "metadata": {},
   "outputs": [],
   "source": [
    "from data import download_data"
   ]
  },
  {
   "cell_type": "code",
   "execution_count": 6,
   "metadata": {},
   "outputs": [],
   "source": [
    "zones = ['BE', 'CH', 'DK_1', 'DK_2', 'EE', 'ES', 'FI', 'FR', 'NL', 'NO_1', 'NO_2','NO_3', 'NO_4', 'NO_5', 'PL', 'PT', 'SE_1', 'SE_2', 'SE_3', 'SE_4']"
   ]
  },
  {
   "cell_type": "code",
   "execution_count": 7,
   "metadata": {},
   "outputs": [],
   "source": [
    "api_key = '986f0997-2b9b-43d0-93ed-8514d256f86d'"
   ]
  },
  {
   "cell_type": "code",
   "execution_count": 8,
   "metadata": {},
   "outputs": [
    {
     "name": "stdout",
     "output_type": "stream",
     "text": [
      "Directory 'c:\\Users\\z110474\\Time Series Paper\\Modular_Codes- V 6.1\\data' already exists, using it now!\n",
      "c:\\Users\\z110474\\Time Series Paper\\Modular_Codes- V 6.1\\data\\BE.csv already exists. Skipping download.\n",
      "c:\\Users\\z110474\\Time Series Paper\\Modular_Codes- V 6.1\\data\\CH.csv already exists. Skipping download.\n",
      "c:\\Users\\z110474\\Time Series Paper\\Modular_Codes- V 6.1\\data\\DK_1.csv already exists. Skipping download.\n",
      "c:\\Users\\z110474\\Time Series Paper\\Modular_Codes- V 6.1\\data\\DK_2.csv already exists. Skipping download.\n",
      "c:\\Users\\z110474\\Time Series Paper\\Modular_Codes- V 6.1\\data\\EE.csv already exists. Skipping download.\n",
      "c:\\Users\\z110474\\Time Series Paper\\Modular_Codes- V 6.1\\data\\ES.csv already exists. Skipping download.\n",
      "c:\\Users\\z110474\\Time Series Paper\\Modular_Codes- V 6.1\\data\\FI.csv already exists. Skipping download.\n",
      "c:\\Users\\z110474\\Time Series Paper\\Modular_Codes- V 6.1\\data\\FR.csv already exists. Skipping download.\n",
      "Data for NL downloaded successfully!\n",
      "Data for NO_1 downloaded successfully!\n",
      "Data for NO_2 downloaded successfully!\n",
      "Data for NO_3 downloaded successfully!\n",
      "Data for NO_4 downloaded successfully!\n",
      "Data for NO_5 downloaded successfully!\n",
      "Data for PL downloaded successfully!\n",
      "Data for PT downloaded successfully!\n",
      "Data for SE_1 downloaded successfully!\n"
     ]
    },
    {
     "name": "stderr",
     "output_type": "stream",
     "text": [
      "Connection Error, retrying in 0 seconds\n"
     ]
    },
    {
     "name": "stdout",
     "output_type": "stream",
     "text": [
      "Error in attempt 1 for SE_2: ('Connection aborted.', RemoteDisconnected('Remote end closed connection without response'))\n"
     ]
    },
    {
     "name": "stderr",
     "output_type": "stream",
     "text": [
      "Connection Error, retrying in 0 seconds\n"
     ]
    },
    {
     "name": "stdout",
     "output_type": "stream",
     "text": [
      "Error in attempt 2 for SE_2: ('Connection aborted.', RemoteDisconnected('Remote end closed connection without response'))\n",
      "Data for SE_2 downloaded successfully!\n",
      "Data for SE_3 downloaded successfully!\n",
      "Data for SE_4 downloaded successfully!\n"
     ]
    }
   ],
   "source": [
    "download_data(first_year=2015, last_year=2023, zones=zones, folder_name='data', api_key=api_key)"
   ]
  }
 ],
 "metadata": {
  "kernelspec": {
   "display_name": "ML",
   "language": "python",
   "name": "python3"
  },
  "language_info": {
   "codemirror_mode": {
    "name": "ipython",
    "version": 3
   },
   "file_extension": ".py",
   "mimetype": "text/x-python",
   "name": "python",
   "nbconvert_exporter": "python",
   "pygments_lexer": "ipython3",
   "version": "3.9.12"
  },
  "orig_nbformat": 4
 },
 "nbformat": 4,
 "nbformat_minor": 2
}
