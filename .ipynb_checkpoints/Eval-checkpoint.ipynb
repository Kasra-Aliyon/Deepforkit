{
 "cells": [
  {
   "cell_type": "code",
   "execution_count": 1,
   "metadata": {},
   "outputs": [],
   "source": [
    "import pandas as pd"
   ]
  },
  {
   "cell_type": "code",
   "execution_count": 2,
   "metadata": {},
   "outputs": [],
   "source": [
    "zone = 'FR'"
   ]
  },
  {
   "cell_type": "code",
   "execution_count": 3,
   "metadata": {},
   "outputs": [],
   "source": [
    "from large_scale_prediction import large_scale_reader"
   ]
  },
  {
   "cell_type": "code",
   "execution_count": 15,
   "metadata": {},
   "outputs": [
    {
     "data": {
      "text/html": [
       "<div>\n",
       "<style scoped>\n",
       "    .dataframe tbody tr th:only-of-type {\n",
       "        vertical-align: middle;\n",
       "    }\n",
       "\n",
       "    .dataframe tbody tr th {\n",
       "        vertical-align: top;\n",
       "    }\n",
       "\n",
       "    .dataframe thead th {\n",
       "        text-align: right;\n",
       "    }\n",
       "</style>\n",
       "<table border=\"1\" class=\"dataframe\">\n",
       "  <thead>\n",
       "    <tr style=\"text-align: right;\">\n",
       "      <th></th>\n",
       "      <th>MAE</th>\n",
       "      <th>sMAPE</th>\n",
       "      <th>rMAE</th>\n",
       "    </tr>\n",
       "    <tr>\n",
       "      <th>Date</th>\n",
       "      <th></th>\n",
       "      <th></th>\n",
       "      <th></th>\n",
       "    </tr>\n",
       "  </thead>\n",
       "  <tbody>\n",
       "    <tr>\n",
       "      <th>2018-01-01</th>\n",
       "      <td>6.634895</td>\n",
       "      <td>77.457108</td>\n",
       "      <td>0.261689</td>\n",
       "    </tr>\n",
       "    <tr>\n",
       "      <th>2018-01-02</th>\n",
       "      <td>10.053160</td>\n",
       "      <td>43.642140</td>\n",
       "      <td>1.092982</td>\n",
       "    </tr>\n",
       "    <tr>\n",
       "      <th>2018-01-03</th>\n",
       "      <td>7.010033</td>\n",
       "      <td>44.447088</td>\n",
       "      <td>0.322690</td>\n",
       "    </tr>\n",
       "    <tr>\n",
       "      <th>2018-01-04</th>\n",
       "      <td>13.579782</td>\n",
       "      <td>62.593931</td>\n",
       "      <td>0.845895</td>\n",
       "    </tr>\n",
       "    <tr>\n",
       "      <th>2018-01-05</th>\n",
       "      <td>8.345091</td>\n",
       "      <td>37.170486</td>\n",
       "      <td>0.625139</td>\n",
       "    </tr>\n",
       "    <tr>\n",
       "      <th>...</th>\n",
       "      <td>...</td>\n",
       "      <td>...</td>\n",
       "      <td>...</td>\n",
       "    </tr>\n",
       "    <tr>\n",
       "      <th>2023-06-26</th>\n",
       "      <td>21.571027</td>\n",
       "      <td>22.592612</td>\n",
       "      <td>0.942927</td>\n",
       "    </tr>\n",
       "    <tr>\n",
       "      <th>2023-06-27</th>\n",
       "      <td>14.420836</td>\n",
       "      <td>14.149362</td>\n",
       "      <td>0.856895</td>\n",
       "    </tr>\n",
       "    <tr>\n",
       "      <th>2023-06-28</th>\n",
       "      <td>8.290003</td>\n",
       "      <td>7.642943</td>\n",
       "      <td>0.485885</td>\n",
       "    </tr>\n",
       "    <tr>\n",
       "      <th>2023-06-29</th>\n",
       "      <td>9.956059</td>\n",
       "      <td>9.457372</td>\n",
       "      <td>0.707819</td>\n",
       "    </tr>\n",
       "    <tr>\n",
       "      <th>2023-06-30</th>\n",
       "      <td>10.409614</td>\n",
       "      <td>10.226046</td>\n",
       "      <td>1.022304</td>\n",
       "    </tr>\n",
       "  </tbody>\n",
       "</table>\n",
       "<p>2007 rows × 3 columns</p>\n",
       "</div>"
      ],
      "text/plain": [
       "                  MAE      sMAPE      rMAE\n",
       "Date                                      \n",
       "2018-01-01   6.634895  77.457108  0.261689\n",
       "2018-01-02  10.053160  43.642140  1.092982\n",
       "2018-01-03   7.010033  44.447088  0.322690\n",
       "2018-01-04  13.579782  62.593931  0.845895\n",
       "2018-01-05   8.345091  37.170486  0.625139\n",
       "...               ...        ...       ...\n",
       "2023-06-26  21.571027  22.592612  0.942927\n",
       "2023-06-27  14.420836  14.149362  0.856895\n",
       "2023-06-28   8.290003   7.642943  0.485885\n",
       "2023-06-29   9.956059   9.457372  0.707819\n",
       "2023-06-30  10.409614  10.226046  1.022304\n",
       "\n",
       "[2007 rows x 3 columns]"
      ]
     },
     "execution_count": 15,
     "metadata": {},
     "output_type": "execute_result"
    }
   ],
   "source": [
    "Metrics"
   ]
  },
  {
   "cell_type": "code",
   "execution_count": null,
   "metadata": {},
   "outputs": [],
   "source": []
  },
  {
   "cell_type": "code",
   "execution_count": 4,
   "metadata": {},
   "outputs": [],
   "source": [
    "Preds, Metrics = large_scale_reader(zone)"
   ]
  },
  {
   "cell_type": "code",
   "execution_count": 7,
   "metadata": {},
   "outputs": [
    {
     "data": {
      "text/plain": [
       "21.997161250243323"
      ]
     },
     "execution_count": 7,
     "metadata": {},
     "output_type": "execute_result"
    }
   ],
   "source": [
    "Metrics.loc['2020']['sMAPE'].mean()"
   ]
  },
  {
   "cell_type": "code",
   "execution_count": 8,
   "metadata": {},
   "outputs": [],
   "source": [
    "df = pd.read_csv('data' + '/' + zone + '.csv')"
   ]
  },
  {
   "cell_type": "code",
   "execution_count": 9,
   "metadata": {},
   "outputs": [],
   "source": [
    "df.rename(columns={'Unnamed: 0': 'Date'}, inplace=True)\n",
    "index = pd.to_datetime(df['Date'])\n",
    "df.set_index(index, inplace=True)\n",
    "df.drop(columns=['Date'], inplace=True)"
   ]
  },
  {
   "cell_type": "code",
   "execution_count": 29,
   "metadata": {},
   "outputs": [
    {
     "data": {
      "text/plain": [
       "48168"
      ]
     },
     "execution_count": 29,
     "metadata": {},
     "output_type": "execute_result"
    }
   ],
   "source": [
    "len(df['Price_DA'].loc['2018':])"
   ]
  },
  {
   "cell_type": "code",
   "execution_count": 28,
   "metadata": {},
   "outputs": [
    {
     "data": {
      "text/plain": [
       "48168"
      ]
     },
     "execution_count": 28,
     "metadata": {},
     "output_type": "execute_result"
    }
   ],
   "source": [
    "len(Preds['Price_DA'])"
   ]
  },
  {
   "cell_type": "code",
   "execution_count": 10,
   "metadata": {},
   "outputs": [],
   "source": [
    "from data import sMAPE"
   ]
  },
  {
   "cell_type": "code",
   "execution_count": 11,
   "metadata": {},
   "outputs": [
    {
     "data": {
      "text/plain": [
       "21.997161253516097"
      ]
     },
     "execution_count": 11,
     "metadata": {},
     "output_type": "execute_result"
    }
   ],
   "source": [
    "sMAPE(Preds['Price_DA'].loc['2020'], df['Price_DA'].loc['2020'])"
   ]
  },
  {
   "cell_type": "code",
   "execution_count": 12,
   "metadata": {},
   "outputs": [],
   "source": [
    "def calculate_smape(y_true, y_pred):\n",
    "    \"\"\"\n",
    "    Calculate Symmetric Mean Absolute Percentage Error (SMAPE) between two arrays.\n",
    "\n",
    "    Parameters:\n",
    "        y_true (array-like): The true values.\n",
    "        y_pred (array-like): The predicted values.\n",
    "\n",
    "    Returns:\n",
    "        float: The SMAPE value.\n",
    "    \"\"\"\n",
    "    import numpy as np\n",
    "\n",
    "    y_true = np.array(y_true)\n",
    "    y_pred = np.array(y_pred)\n",
    "\n",
    "    # Avoid division by zero by adding a small epsilon\n",
    "    epsilon = 1e-10\n",
    "\n",
    "    numerator = np.abs(y_true - y_pred)\n",
    "    denominator = (np.abs(y_true) + np.abs(y_pred)) / 2.0 + epsilon\n",
    "\n",
    "    smape = np.mean(numerator / denominator) * 100.0\n",
    "    return smape"
   ]
  },
  {
   "cell_type": "code",
   "execution_count": 14,
   "metadata": {},
   "outputs": [
    {
     "data": {
      "text/plain": [
       "21.997161253314847"
      ]
     },
     "execution_count": 14,
     "metadata": {},
     "output_type": "execute_result"
    }
   ],
   "source": [
    "calculate_smape(Preds['Price_DA'].loc['2020'], df['Price_DA'].loc['2020'])"
   ]
  },
  {
   "cell_type": "code",
   "execution_count": 16,
   "metadata": {},
   "outputs": [],
   "source": [
    "from sklearn.metrics import mean_absolute_error"
   ]
  },
  {
   "cell_type": "code",
   "execution_count": 17,
   "metadata": {},
   "outputs": [
    {
     "data": {
      "text/plain": [
       "5.037659979915152"
      ]
     },
     "execution_count": 17,
     "metadata": {},
     "output_type": "execute_result"
    }
   ],
   "source": [
    "mean_absolute_error(Preds['Price_DA'].loc['2020'], df['Price_DA'].loc['2020'])"
   ]
  },
  {
   "cell_type": "code",
   "execution_count": null,
   "metadata": {},
   "outputs": [],
   "source": []
  },
  {
   "cell_type": "code",
   "execution_count": 53,
   "metadata": {},
   "outputs": [],
   "source": [
    "import numpy as np"
   ]
  },
  {
   "cell_type": "code",
   "execution_count": 59,
   "metadata": {},
   "outputs": [],
   "source": [
    "import matplotlib.pyplot as plt"
   ]
  },
  {
   "cell_type": "code",
   "execution_count": 60,
   "metadata": {},
   "outputs": [],
   "source": [
    "hourly_sMAPE = np.vectorize(sMAPE)(Preds['Price_DA'].loc['2020':'2021'], df['Price_DA'].loc['2020':'2021'])"
   ]
  },
  {
   "cell_type": "code",
   "execution_count": 61,
   "metadata": {},
   "outputs": [
    {
     "data": {
      "text/plain": [
       "[<matplotlib.lines.Line2D at 0x23dd4b14b20>]"
      ]
     },
     "execution_count": 61,
     "metadata": {},
     "output_type": "execute_result"
    },
    {
     "data": {
      "image/png": "[encoded data removed]",
      "text/plain": [
       "<Figure size 432x288 with 1 Axes>"
      ]
     },
     "metadata": {
      "needs_background": "light"
     },
     "output_type": "display_data"
    }
   ],
   "source": [
    "plt.plot(hourly_sMAPE)"
   ]
  },
  {
   "cell_type": "code",
   "execution_count": 66,
   "metadata": {},
   "outputs": [
    {
     "ename": "ValueError",
     "evalue": "cannot reshape array of size 17544 into shape (168)",
     "output_type": "error",
     "traceback": [
      "\u001b[1;31m---------------------------------------------------------------------------\u001b[0m",
      "\u001b[1;31mValueError\u001b[0m                                Traceback (most recent call last)",
      "\u001b[1;32mc:\\Users\\z110474\\Time Series Paper\\Modular_Codes- V 6.2\\Eval.ipynb Cell 16\u001b[0m in \u001b[0;36m<cell line: 1>\u001b[1;34m()\u001b[0m\n\u001b[1;32m----> <a href='vscode-notebook-cell:/c%3A/Users/z110474/Time%20Series%20Paper/Modular_Codes-%20V%206.2/Eval.ipynb#X45sZmlsZQ%3D%3D?line=0'>1</a>\u001b[0m reshaped_prices \u001b[39m=\u001b[39m hourly_sMAPE\u001b[39m.\u001b[39;49mreshape(\u001b[39m-\u001b[39;49m\u001b[39m1\u001b[39;49m, \u001b[39m24\u001b[39;49m\u001b[39m*\u001b[39;49m\u001b[39m7\u001b[39;49m)\n",
      "\u001b[1;31mValueError\u001b[0m: cannot reshape array of size 17544 into shape (168)"
     ]
    }
   ],
   "source": [
    "reshaped_prices = hourly_sMAPE.reshape(-1, 24*7)"
   ]
  },
  {
   "cell_type": "code",
   "execution_count": 63,
   "metadata": {},
   "outputs": [],
   "source": [
    "average_prices = reshaped_prices.mean(axis=1)"
   ]
  },
  {
   "cell_type": "code",
   "execution_count": 65,
   "metadata": {},
   "outputs": [
    {
     "data": {
      "text/plain": [
       "[<matplotlib.lines.Line2D at 0x23dd4f1ddc0>]"
      ]
     },
     "execution_count": 65,
     "metadata": {},
     "output_type": "execute_result"
    },
    {
     "data": {
      "image/png": "[encoded data removed]",
      "text/plain": [
       "<Figure size 432x288 with 1 Axes>"
      ]
     },
     "metadata": {
      "needs_background": "light"
     },
     "output_type": "display_data"
    }
   ],
   "source": [
    "plt.plot(average_prices)"
   ]
  },
  {
   "cell_type": "code",
   "execution_count": null,
   "metadata": {},
   "outputs": [],
   "source": []
  },
  {
   "cell_type": "code",
   "execution_count": 34,
   "metadata": {},
   "outputs": [],
   "source": [
    "from sklearn.metrics import mean_absolute_error"
   ]
  },
  {
   "cell_type": "code",
   "execution_count": 35,
   "metadata": {},
   "outputs": [
    {
     "data": {
      "text/plain": [
       "14.4332220596637"
      ]
     },
     "execution_count": 35,
     "metadata": {},
     "output_type": "execute_result"
    }
   ],
   "source": [
    "mean_absolute_error(Preds['Price_DA'].loc['2020':'2021'], df['Price_DA'].loc['2020':'2021'])"
   ]
  },
  {
   "cell_type": "code",
   "execution_count": 32,
   "metadata": {},
   "outputs": [
    {
     "data": {
      "text/plain": [
       "Date\n",
       "2020-01-01 00:00:00    41.88\n",
       "2020-01-01 01:00:00    38.60\n",
       "2020-01-01 02:00:00    36.55\n",
       "2020-01-01 03:00:00    32.32\n",
       "2020-01-01 04:00:00    30.85\n",
       "                       ...  \n",
       "2021-12-31 19:00:00    60.72\n",
       "2021-12-31 20:00:00   -32.27\n",
       "2021-12-31 21:00:00     6.20\n",
       "2021-12-31 22:00:00    35.96\n",
       "2021-12-31 23:00:00    36.34\n",
       "Name: Price_DA, Length: 17544, dtype: float64"
      ]
     },
     "execution_count": 32,
     "metadata": {},
     "output_type": "execute_result"
    }
   ],
   "source": [
    "df['Price_DA'].loc['2020':'2021']"
   ]
  },
  {
   "cell_type": "code",
   "execution_count": 47,
   "metadata": {},
   "outputs": [],
   "source": [
    "horizon = df.loc['2020':'2021']"
   ]
  },
  {
   "cell_type": "code",
   "execution_count": 48,
   "metadata": {},
   "outputs": [],
   "source": [
    "from prediction import naive_predict_over_horizon"
   ]
  },
  {
   "cell_type": "code",
   "execution_count": 42,
   "metadata": {},
   "outputs": [],
   "source": [
    "test_space_start = horizon.index[0] - pd.Timedelta(weeks=1)"
   ]
  },
  {
   "cell_type": "code",
   "execution_count": 43,
   "metadata": {},
   "outputs": [],
   "source": [
    "test_space_end = horizon.index[-1]"
   ]
  },
  {
   "cell_type": "code",
   "execution_count": 44,
   "metadata": {},
   "outputs": [],
   "source": [
    "test_space = df.loc[test_space_start:test_space_end]"
   ]
  },
  {
   "cell_type": "code",
   "execution_count": 45,
   "metadata": {},
   "outputs": [
    {
     "data": {
      "text/html": [
       "<div>\n",
       "<style scoped>\n",
       "    .dataframe tbody tr th:only-of-type {\n",
       "        vertical-align: middle;\n",
       "    }\n",
       "\n",
       "    .dataframe tbody tr th {\n",
       "        vertical-align: top;\n",
       "    }\n",
       "\n",
       "    .dataframe thead th {\n",
       "        text-align: right;\n",
       "    }\n",
       "</style>\n",
       "<table border=\"1\" class=\"dataframe\">\n",
       "  <thead>\n",
       "    <tr style=\"text-align: right;\">\n",
       "      <th></th>\n",
       "      <th>Price_DA</th>\n",
       "      <th>Load_DA</th>\n",
       "      <th>Load_AC</th>\n",
       "      <th>Gen_SC</th>\n",
       "      <th>Sol_DA</th>\n",
       "      <th>Won_DA</th>\n",
       "    </tr>\n",
       "    <tr>\n",
       "      <th>Date</th>\n",
       "      <th></th>\n",
       "      <th></th>\n",
       "      <th></th>\n",
       "      <th></th>\n",
       "      <th></th>\n",
       "      <th></th>\n",
       "    </tr>\n",
       "  </thead>\n",
       "  <tbody>\n",
       "    <tr>\n",
       "      <th>2019-12-25 00:00:00</th>\n",
       "      <td>15.70</td>\n",
       "      <td>8886.0</td>\n",
       "      <td>8576.0</td>\n",
       "      <td>8602.0</td>\n",
       "      <td>0</td>\n",
       "      <td>693.0</td>\n",
       "    </tr>\n",
       "    <tr>\n",
       "      <th>2019-12-25 01:00:00</th>\n",
       "      <td>14.32</td>\n",
       "      <td>8413.0</td>\n",
       "      <td>8060.0</td>\n",
       "      <td>8468.0</td>\n",
       "      <td>0</td>\n",
       "      <td>687.0</td>\n",
       "    </tr>\n",
       "    <tr>\n",
       "      <th>2019-12-25 02:00:00</th>\n",
       "      <td>11.48</td>\n",
       "      <td>8010.0</td>\n",
       "      <td>7499.0</td>\n",
       "      <td>8065.0</td>\n",
       "      <td>0</td>\n",
       "      <td>723.0</td>\n",
       "    </tr>\n",
       "    <tr>\n",
       "      <th>2019-12-25 03:00:00</th>\n",
       "      <td>7.55</td>\n",
       "      <td>7664.0</td>\n",
       "      <td>7115.0</td>\n",
       "      <td>8040.0</td>\n",
       "      <td>0</td>\n",
       "      <td>803.0</td>\n",
       "    </tr>\n",
       "    <tr>\n",
       "      <th>2019-12-25 04:00:00</th>\n",
       "      <td>6.17</td>\n",
       "      <td>7443.0</td>\n",
       "      <td>6867.0</td>\n",
       "      <td>7920.0</td>\n",
       "      <td>0</td>\n",
       "      <td>878.0</td>\n",
       "    </tr>\n",
       "    <tr>\n",
       "      <th>...</th>\n",
       "      <td>...</td>\n",
       "      <td>...</td>\n",
       "      <td>...</td>\n",
       "      <td>...</td>\n",
       "      <td>...</td>\n",
       "      <td>...</td>\n",
       "    </tr>\n",
       "    <tr>\n",
       "      <th>2021-12-31 19:00:00</th>\n",
       "      <td>60.72</td>\n",
       "      <td>10212.0</td>\n",
       "      <td>9225.0</td>\n",
       "      <td>11214.0</td>\n",
       "      <td>0</td>\n",
       "      <td>1157.0</td>\n",
       "    </tr>\n",
       "    <tr>\n",
       "      <th>2021-12-31 20:00:00</th>\n",
       "      <td>-32.27</td>\n",
       "      <td>9738.0</td>\n",
       "      <td>8878.0</td>\n",
       "      <td>11128.0</td>\n",
       "      <td>0</td>\n",
       "      <td>1050.0</td>\n",
       "    </tr>\n",
       "    <tr>\n",
       "      <th>2021-12-31 21:00:00</th>\n",
       "      <td>6.20</td>\n",
       "      <td>9308.0</td>\n",
       "      <td>8530.0</td>\n",
       "      <td>10302.0</td>\n",
       "      <td>0</td>\n",
       "      <td>932.0</td>\n",
       "    </tr>\n",
       "    <tr>\n",
       "      <th>2021-12-31 22:00:00</th>\n",
       "      <td>35.96</td>\n",
       "      <td>9137.0</td>\n",
       "      <td>8468.0</td>\n",
       "      <td>9904.0</td>\n",
       "      <td>0</td>\n",
       "      <td>821.0</td>\n",
       "    </tr>\n",
       "    <tr>\n",
       "      <th>2021-12-31 23:00:00</th>\n",
       "      <td>36.34</td>\n",
       "      <td>9292.0</td>\n",
       "      <td>8747.0</td>\n",
       "      <td>9957.0</td>\n",
       "      <td>0</td>\n",
       "      <td>719.0</td>\n",
       "    </tr>\n",
       "  </tbody>\n",
       "</table>\n",
       "<p>17712 rows × 6 columns</p>\n",
       "</div>"
      ],
      "text/plain": [
       "                     Price_DA  Load_DA  Load_AC   Gen_SC  Sol_DA  Won_DA\n",
       "Date                                                                    \n",
       "2019-12-25 00:00:00     15.70   8886.0   8576.0   8602.0       0   693.0\n",
       "2019-12-25 01:00:00     14.32   8413.0   8060.0   8468.0       0   687.0\n",
       "2019-12-25 02:00:00     11.48   8010.0   7499.0   8065.0       0   723.0\n",
       "2019-12-25 03:00:00      7.55   7664.0   7115.0   8040.0       0   803.0\n",
       "2019-12-25 04:00:00      6.17   7443.0   6867.0   7920.0       0   878.0\n",
       "...                       ...      ...      ...      ...     ...     ...\n",
       "2021-12-31 19:00:00     60.72  10212.0   9225.0  11214.0       0  1157.0\n",
       "2021-12-31 20:00:00    -32.27   9738.0   8878.0  11128.0       0  1050.0\n",
       "2021-12-31 21:00:00      6.20   9308.0   8530.0  10302.0       0   932.0\n",
       "2021-12-31 22:00:00     35.96   9137.0   8468.0   9904.0       0   821.0\n",
       "2021-12-31 23:00:00     36.34   9292.0   8747.0   9957.0       0   719.0\n",
       "\n",
       "[17712 rows x 6 columns]"
      ]
     },
     "execution_count": 45,
     "metadata": {},
     "output_type": "execute_result"
    }
   ],
   "source": [
    "test_space"
   ]
  },
  {
   "cell_type": "code",
   "execution_count": 46,
   "metadata": {},
   "outputs": [],
   "source": [
    "test_predictions = test_space['Price_DA'].shift(24 * 7)\n",
    "test_predictions = test_predictions.dropna()"
   ]
  },
  {
   "cell_type": "code",
   "execution_count": null,
   "metadata": {},
   "outputs": [],
   "source": []
  },
  {
   "cell_type": "code",
   "execution_count": null,
   "metadata": {},
   "outputs": [],
   "source": []
  },
  {
   "cell_type": "code",
   "execution_count": 50,
   "metadata": {},
   "outputs": [],
   "source": [
    "test_predictions, test_MAE, test_sMAPE = naive_predict_over_horizon(df, horizon)"
   ]
  },
  {
   "cell_type": "code",
   "execution_count": 51,
   "metadata": {},
   "outputs": [
    {
     "data": {
      "text/plain": [
       "18.843814409484725"
      ]
     },
     "execution_count": 51,
     "metadata": {},
     "output_type": "execute_result"
    }
   ],
   "source": [
    "test_MAE"
   ]
  },
  {
   "cell_type": "code",
   "execution_count": 52,
   "metadata": {},
   "outputs": [
    {
     "data": {
      "text/plain": [
       "0.7659395144753164"
      ]
     },
     "execution_count": 52,
     "metadata": {},
     "output_type": "execute_result"
    }
   ],
   "source": [
    "14.4332220596637 / 18.843814409484725"
   ]
  },
  {
   "cell_type": "code",
   "execution_count": null,
   "metadata": {},
   "outputs": [],
   "source": []
  }
 ],
 "metadata": {
  "kernelspec": {
   "display_name": "Python 3 (ipykernel)",
   "language": "python",
   "name": "python3"
  },
  "language_info": {
   "codemirror_mode": {
    "name": "ipython",
    "version": 3
   },
   "file_extension": ".py",
   "mimetype": "text/x-python",
   "name": "python",
   "nbconvert_exporter": "python",
   "pygments_lexer": "ipython3",
   "version": "3.9.12"
  }
 },
 "nbformat": 4,
 "nbformat_minor": 2
}
