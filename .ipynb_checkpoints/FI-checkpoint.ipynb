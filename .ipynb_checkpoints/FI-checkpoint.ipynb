{
 "cells": [
  {
   "cell_type": "code",
   "execution_count": 1,
   "metadata": {},
   "outputs": [],
   "source": [
    "zone = 'FI'"
   ]
  },
  {
   "cell_type": "code",
   "execution_count": 2,
   "metadata": {},
   "outputs": [],
   "source": [
    "import optuna\n",
    "import pandas as pd\n",
    "import numpy as np\n",
    "import os\n",
    "import glob\n",
    "\n",
    "from hyperparameters import optimize_hyperparameters\n",
    "from data import wrangle_data, split_dataframe_by_years, sMAPE\n",
    "\n",
    "from prediction import predict_over_horizon, predict_over_horizon_hyperparameters, recalibrate_predict_over_horizon, predict_next_day, naive_predict_over_horizon\n",
    "\n",
    "import matplotlib.pyplot as plt\n",
    "import seaborn as sns\n",
    "\n",
    "from sklearn.metrics import mean_squared_error, mean_absolute_error, mean_absolute_percentage_error"
   ]
  },
  {
   "cell_type": "code",
   "execution_count": 3,
   "metadata": {},
   "outputs": [],
   "source": [
    "directory = zone\n",
    "if not os.path.exists(directory):\n",
    "    os.makedirs(directory)"
   ]
  },
  {
   "cell_type": "code",
   "execution_count": 4,
   "metadata": {
    "scrolled": true
   },
   "outputs": [
    {
     "name": "stderr",
     "output_type": "stream",
     "text": [
      "\u001b[32m[I 2023-06-12 15:06:09,179]\u001b[0m Using an existing study with name 'FI_2018' instead of creating a new one.\u001b[0m\n"
     ]
    },
    {
     "name": "stdout",
     "output_type": "stream",
     "text": [
      "Directory 'C:\\Users\\z110474\\Time Series Paper\\Modular_Codes- V 6.1\\hyperparameter_optimization_trials' already exists, using it to store the results of the hyperparameter optimization!\n"
     ]
    },
    {
     "name": "stderr",
     "output_type": "stream",
     "text": [
      "\u001b[32m[I 2023-06-12 15:06:20,213]\u001b[0m Trial 43 pruned. Trial was pruned at epoch 1.\u001b[0m\n",
      "\u001b[32m[I 2023-06-12 15:06:20,423]\u001b[0m Trial 42 pruned. Trial was pruned at epoch 1.\u001b[0m\n",
      "\u001b[32m[I 2023-06-12 15:06:21,197]\u001b[0m Trial 41 pruned. Trial was pruned at epoch 3.\u001b[0m\n",
      "\u001b[32m[I 2023-06-12 15:06:26,400]\u001b[0m Trial 46 pruned. Trial was pruned at epoch 1.\u001b[0m\n",
      "\u001b[32m[I 2023-06-12 15:06:26,465]\u001b[0m Trial 44 pruned. Trial was pruned at epoch 3.\u001b[0m\n",
      "\u001b[32m[I 2023-06-12 15:06:30,946]\u001b[0m Trial 45 pruned. Trial was pruned at epoch 9.\u001b[0m\n",
      "\u001b[32m[I 2023-06-12 15:06:31,532]\u001b[0m Trial 47 pruned. Trial was pruned at epoch 1.\u001b[0m\n",
      "\u001b[32m[I 2023-06-12 15:06:31,633]\u001b[0m Trial 48 pruned. Trial was pruned at epoch 1.\u001b[0m\n",
      "\u001b[32m[I 2023-06-12 15:06:33,223]\u001b[0m Trial 49 pruned. Trial was pruned at epoch 1.\u001b[0m\n",
      "\u001b[32m[I 2023-06-12 15:07:16,387]\u001b[0m Trial 40 finished with value: 3.6705022247654546 and parameters: {'n_hidden': 4, 'learning_rate': 0.002191498554389462, 'batch_size': 42, 'batch_normalization': True, 'use_hist_2': False, 'use_hist_3': True, 'use_Load_AC': False, 'use_Gen_SC': False, 'use_Won_DA': False, 'use_hour': True, 'use_dow': False, 'use_woy': True, 'use_isweekend': False, 'dropout_rate_Layer_1': 0.3669313306958069, 'dropout_rate_Layer_2': 0.04154232613437888, 'dropout_rate_Layer_3': 0.24156087499350432, 'dropout_rate_Layer_4': 0.07630671806613253, 'activation_Layer_1': 'relu', 'activation_Layer_2': 'relu', 'activation_Layer_3': 'linear', 'activation_Layer_4': 'linear', 'l1_Layer_1': 0.0018940750731353138, 'l1_Layer_2': 0.0010055279151111867, 'l1_Layer_3': 0.09737236437752182, 'l1_Layer_4': 0.00019206315173542627, 'n_units_Layer_1': 300, 'n_units_Layer_2': 80, 'n_units_Layer_3': 85, 'n_units_Layer_4': 205}. Best is trial 19 with value: 3.6688918468761265.\u001b[0m\n"
     ]
    },
    {
     "name": "stdout",
     "output_type": "stream",
     "text": [
      "MAE for Validation Set is: 3.67 | sMAPE for Validation Set is: 10.71% | rMAE for Validation Set is: 0.64\n",
      "MAE for Test Set is: 8.71 | sMAPE for Test Set is: 19.10% | rMAE for Test Set is: 1.10\n",
      "for 2018-01-01, MAE is:1.90 & sMAPE is:8.25% & rMAE is:1.01 ||| daily mean of MAE & sMAPE & rMAE till now are :1.90 & 8.25% & 1.01\n",
      "for 2018-01-02, MAE is:2.11 & sMAPE is:6.50% & rMAE is:0.34 ||| daily mean of MAE & sMAPE & rMAE till now are :2.00 & 7.37% & 0.67\n",
      "for 2018-01-03, MAE is:2.89 & sMAPE is:9.75% & rMAE is:0.62 ||| daily mean of MAE & sMAPE & rMAE till now are :2.30 & 8.17% & 0.66\n",
      "WARNING:tensorflow:5 out of the last 28 calls to <function Model.make_predict_function.<locals>.predict_function at 0x000001DE1F8514C0> triggered tf.function retracing. Tracing is expensive and the excessive number of tracings could be due to (1) creating @tf.function repeatedly in a loop, (2) passing tensors with different shapes, (3) passing Python objects instead of tensors. For (1), please define your @tf.function outside of the loop. For (2), @tf.function has reduce_retracing=True option that can avoid unnecessary retracing. For (3), please refer to https://www.tensorflow.org/guide/function#controlling_retracing and https://www.tensorflow.org/api_docs/python/tf/function for  more details.\n",
      "for 2018-01-04, MAE is:1.99 & sMAPE is:5.90% & rMAE is:0.64 ||| daily mean of MAE & sMAPE & rMAE till now are :2.22 & 7.60% & 0.65\n",
      "WARNING:tensorflow:6 out of the last 29 calls to <function Model.make_predict_function.<locals>.predict_function at 0x000001DE17F2DE50> triggered tf.function retracing. Tracing is expensive and the excessive number of tracings could be due to (1) creating @tf.function repeatedly in a loop, (2) passing tensors with different shapes, (3) passing Python objects instead of tensors. For (1), please define your @tf.function outside of the loop. For (2), @tf.function has reduce_retracing=True option that can avoid unnecessary retracing. For (3), please refer to https://www.tensorflow.org/guide/function#controlling_retracing and https://www.tensorflow.org/api_docs/python/tf/function for  more details.\n",
      "for 2018-01-05, MAE is:2.67 & sMAPE is:7.92% & rMAE is:1.37 ||| daily mean of MAE & sMAPE & rMAE till now are :2.31 & 7.66% & 0.79\n",
      "for 2018-01-06, MAE is:2.83 & sMAPE is:9.40% & rMAE is:0.67 ||| daily mean of MAE & sMAPE & rMAE till now are :2.40 & 7.95% & 0.77\n",
      "for 2018-01-07, MAE is:1.09 & sMAPE is:3.78% & rMAE is:0.62 ||| daily mean of MAE & sMAPE & rMAE till now are :2.21 & 7.36% & 0.75\n",
      "for 2018-01-08, MAE is:2.54 & sMAPE is:7.40% & rMAE is:0.31 ||| daily mean of MAE & sMAPE & rMAE till now are :2.25 & 7.36% & 0.70\n",
      "for 2018-01-09, MAE is:3.38 & sMAPE is:9.65% & rMAE is:1.16 ||| daily mean of MAE & sMAPE & rMAE till now are :2.38 & 7.62% & 0.75\n",
      "for 2018-01-10, MAE is:8.72 & sMAPE is:22.56% & rMAE is:0.76 ||| daily mean of MAE & sMAPE & rMAE till now are :3.01 & 9.11% & 0.75\n",
      "for 2018-01-11, MAE is:7.32 & sMAPE is:16.49% & rMAE is:0.66 ||| daily mean of MAE & sMAPE & rMAE till now are :3.40 & 9.78% & 0.74\n",
      "for 2018-01-12, MAE is:2.84 & sMAPE is:7.51% & rMAE is:0.47 ||| daily mean of MAE & sMAPE & rMAE till now are :3.36 & 9.59% & 0.72\n",
      "for 2018-01-13, MAE is:2.17 & sMAPE is:6.47% & rMAE is:1.32 ||| daily mean of MAE & sMAPE & rMAE till now are :3.26 & 9.35% & 0.76\n",
      "for 2018-01-14, MAE is:1.20 & sMAPE is:4.11% & rMAE is:0.86 ||| daily mean of MAE & sMAPE & rMAE till now are :3.12 & 8.98% & 0.77\n",
      "for 2018-01-15, MAE is:5.01 & sMAPE is:15.16% & rMAE is:1.65 ||| daily mean of MAE & sMAPE & rMAE till now are :3.24 & 9.39% & 0.83\n",
      "for 2018-01-16, MAE is:2.51 & sMAPE is:8.28% & rMAE is:0.73 ||| daily mean of MAE & sMAPE & rMAE till now are :3.20 & 9.32% & 0.82\n",
      "for 2018-01-17, MAE is:7.47 & sMAPE is:17.52% & rMAE is:1.70 ||| daily mean of MAE & sMAPE & rMAE till now are :3.45 & 9.80% & 0.88\n",
      "for 2018-01-18, MAE is:6.27 & sMAPE is:14.76% & rMAE is:1.96 ||| daily mean of MAE & sMAPE & rMAE till now are :3.60 & 10.08% & 0.94\n",
      "for 2018-01-19, MAE is:16.37 & sMAPE is:29.48% & rMAE is:0.98 ||| daily mean of MAE & sMAPE & rMAE till now are :4.28 & 11.10% & 0.94\n",
      "for 2018-01-20, MAE is:4.54 & sMAPE is:12.57% & rMAE is:2.17 ||| daily mean of MAE & sMAPE & rMAE till now are :4.29 & 11.17% & 1.00\n",
      "for 2018-01-21, MAE is:3.67 & sMAPE is:10.39% & rMAE is:0.75 ||| daily mean of MAE & sMAPE & rMAE till now are :4.26 & 11.13% & 0.99\n",
      "for 2018-01-22, MAE is:15.55 & sMAPE is:24.83% & rMAE is:0.63 ||| daily mean of MAE & sMAPE & rMAE till now are :4.77 & 11.76% & 0.97\n",
      "for 2018-01-23, MAE is:40.14 & sMAPE is:47.88% & rMAE is:0.85 ||| daily mean of MAE & sMAPE & rMAE till now are :6.31 & 13.33% & 0.97\n",
      "for 2018-01-24, MAE is:5.29 & sMAPE is:16.53% & rMAE is:0.76 ||| daily mean of MAE & sMAPE & rMAE till now are :6.27 & 13.46% & 0.96\n",
      "for 2018-01-25, MAE is:5.89 & sMAPE is:18.64% & rMAE is:0.65 ||| daily mean of MAE & sMAPE & rMAE till now are :6.25 & 13.67% & 0.95\n",
      "for 2018-01-26, MAE is:5.34 & sMAPE is:14.58% & rMAE is:0.45 ||| daily mean of MAE & sMAPE & rMAE till now are :6.22 & 13.70% & 0.93\n",
      "for 2018-01-27, MAE is:2.25 & sMAPE is:7.18% & rMAE is:0.73 ||| daily mean of MAE & sMAPE & rMAE till now are :6.07 & 13.46% & 0.92\n",
      "for 2018-01-28, MAE is:1.57 & sMAPE is:5.34% & rMAE is:0.24 ||| daily mean of MAE & sMAPE & rMAE till now are :5.91 & 13.17% & 0.89\n",
      "for 2018-01-29, MAE is:3.34 & sMAPE is:9.08% & rMAE is:0.16 ||| daily mean of MAE & sMAPE & rMAE till now are :5.82 & 13.03% & 0.87\n",
      "for 2018-01-30, MAE is:4.48 & sMAPE is:12.31% & rMAE is:0.11 ||| daily mean of MAE & sMAPE & rMAE till now are :5.78 & 13.01% & 0.84\n",
      "for 2018-01-31, MAE is:12.90 & sMAPE is:23.50% & rMAE is:1.01 ||| daily mean of MAE & sMAPE & rMAE till now are :6.01 & 13.35% & 0.85\n",
      "for 2018-02-01, MAE is:3.14 & sMAPE is:9.53% & rMAE is:0.79 ||| daily mean of MAE & sMAPE & rMAE till now are :5.92 & 13.23% & 0.85\n",
      "for 2018-02-02, MAE is:2.46 & sMAPE is:6.64% & rMAE is:0.38 ||| daily mean of MAE & sMAPE & rMAE till now are :5.81 & 13.03% & 0.83\n",
      "for 2018-02-03, MAE is:1.42 & sMAPE is:4.01% & rMAE is:0.58 ||| daily mean of MAE & sMAPE & rMAE till now are :5.68 & 12.76% & 0.83\n",
      "for 2018-02-04, MAE is:1.16 & sMAPE is:3.34% & rMAE is:0.21 ||| daily mean of MAE & sMAPE & rMAE till now are :5.55 & 12.49% & 0.81\n",
      "for 2018-02-05, MAE is:9.66 & sMAPE is:16.54% & rMAE is:0.57 ||| daily mean of MAE & sMAPE & rMAE till now are :5.67 & 12.60% & 0.80\n",
      "for 2018-02-06, MAE is:2.35 & sMAPE is:4.74% & rMAE is:0.21 ||| daily mean of MAE & sMAPE & rMAE till now are :5.58 & 12.39% & 0.79\n",
      "for 2018-02-07, MAE is:3.77 & sMAPE is:7.87% & rMAE is:0.28 ||| daily mean of MAE & sMAPE & rMAE till now are :5.53 & 12.27% & 0.77\n",
      "for 2018-02-08, MAE is:5.27 & sMAPE is:11.64% & rMAE is:0.58 ||| daily mean of MAE & sMAPE & rMAE till now are :5.52 & 12.26% & 0.77\n",
      "for 2018-02-09, MAE is:3.38 & sMAPE is:8.54% & rMAE is:1.40 ||| daily mean of MAE & sMAPE & rMAE till now are :5.47 & 12.16% & 0.78\n",
      "for 2018-02-10, MAE is:2.03 & sMAPE is:5.92% & rMAE is:1.18 ||| daily mean of MAE & sMAPE & rMAE till now are :5.39 & 12.01% & 0.79\n",
      "for 2018-02-11, MAE is:3.56 & sMAPE is:11.18% & rMAE is:0.92 ||| daily mean of MAE & sMAPE & rMAE till now are :5.34 & 11.99% & 0.80\n",
      "for 2018-02-12, MAE is:6.41 & sMAPE is:16.42% & rMAE is:0.46 ||| daily mean of MAE & sMAPE & rMAE till now are :5.37 & 12.09% & 0.79\n",
      "for 2018-02-13, MAE is:3.07 & sMAPE is:7.92% & rMAE is:0.29 ||| daily mean of MAE & sMAPE & rMAE till now are :5.32 & 12.00% & 0.78\n",
      "for 2018-02-14, MAE is:4.53 & sMAPE is:11.38% & rMAE is:0.54 ||| daily mean of MAE & sMAPE & rMAE till now are :5.30 & 11.99% & 0.77\n",
      "for 2018-02-15, MAE is:2.45 & sMAPE is:6.60% & rMAE is:0.32 ||| daily mean of MAE & sMAPE & rMAE till now are :5.24 & 11.87% & 0.76\n",
      "for 2018-02-16, MAE is:2.38 & sMAPE is:5.71% & rMAE is:0.84 ||| daily mean of MAE & sMAPE & rMAE till now are :5.18 & 11.74% & 0.76\n",
      "for 2018-02-17, MAE is:3.28 & sMAPE is:8.52% & rMAE is:0.60 ||| daily mean of MAE & sMAPE & rMAE till now are :5.14 & 11.67% & 0.76\n",
      "for 2018-02-18, MAE is:1.60 & sMAPE is:4.24% & rMAE is:0.25 ||| daily mean of MAE & sMAPE & rMAE till now are :5.06 & 11.52% & 0.75\n",
      "for 2018-02-19, MAE is:5.30 & sMAPE is:10.49% & rMAE is:0.51 ||| daily mean of MAE & sMAPE & rMAE till now are :5.07 & 11.50% & 0.74\n"
     ]
    },
    {
     "name": "stdout",
     "output_type": "stream",
     "text": [
      "for 2018-02-20, MAE is:6.29 & sMAPE is:11.57% & rMAE is:0.39 ||| daily mean of MAE & sMAPE & rMAE till now are :5.09 & 11.50% & 0.74\n",
      "for 2018-02-21, MAE is:5.78 & sMAPE is:9.99% & rMAE is:0.38 ||| daily mean of MAE & sMAPE & rMAE till now are :5.11 & 11.47% & 0.73\n",
      "for 2018-02-22, MAE is:6.00 & sMAPE is:10.53% & rMAE is:0.38 ||| daily mean of MAE & sMAPE & rMAE till now are :5.12 & 11.45% & 0.72\n",
      "for 2018-02-23, MAE is:4.31 & sMAPE is:9.01% & rMAE is:0.82 ||| daily mean of MAE & sMAPE & rMAE till now are :5.11 & 11.41% & 0.73\n",
      "for 2018-02-24, MAE is:3.95 & sMAPE is:9.49% & rMAE is:1.69 ||| daily mean of MAE & sMAPE & rMAE till now are :5.09 & 11.37% & 0.74\n",
      "for 2018-02-25, MAE is:3.06 & sMAPE is:7.51% & rMAE is:1.19 ||| daily mean of MAE & sMAPE & rMAE till now are :5.05 & 11.30% & 0.75\n",
      "for 2018-02-26, MAE is:4.67 & sMAPE is:8.84% & rMAE is:0.89 ||| daily mean of MAE & sMAPE & rMAE till now are :5.04 & 11.26% & 0.75\n",
      "for 2018-02-27, MAE is:5.48 & sMAPE is:9.95% & rMAE is:1.16 ||| daily mean of MAE & sMAPE & rMAE till now are :5.05 & 11.24% & 0.76\n",
      "for 2018-02-28, MAE is:41.26 & sMAPE is:34.15% & rMAE is:1.11 ||| daily mean of MAE & sMAPE & rMAE till now are :5.66 & 11.63% & 0.77\n",
      "for 2018-03-01, MAE is:54.70 & sMAPE is:58.91% & rMAE is:1.18 ||| daily mean of MAE & sMAPE & rMAE till now are :6.48 & 12.41% & 0.77\n",
      "for 2018-03-02, MAE is:24.64 & sMAPE is:30.88% & rMAE is:0.93 ||| daily mean of MAE & sMAPE & rMAE till now are :6.78 & 12.72% & 0.78\n",
      "for 2018-03-03, MAE is:10.76 & sMAPE is:22.25% & rMAE is:2.23 ||| daily mean of MAE & sMAPE & rMAE till now are :6.84 & 12.87% & 0.80\n",
      "for 2018-03-04, MAE is:8.52 & sMAPE is:18.08% & rMAE is:3.46 ||| daily mean of MAE & sMAPE & rMAE till now are :6.87 & 12.95% & 0.84\n",
      "for 2018-03-05, MAE is:7.74 & sMAPE is:12.55% & rMAE is:1.06 ||| daily mean of MAE & sMAPE & rMAE till now are :6.88 & 12.95% & 0.85\n",
      "for 2018-03-06, MAE is:2.52 & sMAPE is:5.04% & rMAE is:0.71 ||| daily mean of MAE & sMAPE & rMAE till now are :6.82 & 12.83% & 0.84\n",
      "for 2018-03-07, MAE is:2.96 & sMAPE is:6.44% & rMAE is:0.07 ||| daily mean of MAE & sMAPE & rMAE till now are :6.76 & 12.73% & 0.83\n",
      "for 2018-03-08, MAE is:3.98 & sMAPE is:9.06% & rMAE is:0.07 ||| daily mean of MAE & sMAPE & rMAE till now are :6.72 & 12.67% & 0.82\n",
      "for 2018-03-09, MAE is:7.42 & sMAPE is:16.30% & rMAE is:0.24 ||| daily mean of MAE & sMAPE & rMAE till now are :6.73 & 12.73% & 0.81\n",
      "for 2018-03-10, MAE is:3.04 & sMAPE is:7.62% & rMAE is:0.51 ||| daily mean of MAE & sMAPE & rMAE till now are :6.67 & 12.65% & 0.81\n",
      "for 2018-03-11, MAE is:1.36 & sMAPE is:3.75% & rMAE is:0.29 ||| daily mean of MAE & sMAPE & rMAE till now are :6.60 & 12.53% & 0.80\n",
      "for 2018-03-12, MAE is:2.06 & sMAPE is:4.91% & rMAE is:0.16 ||| daily mean of MAE & sMAPE & rMAE till now are :6.53 & 12.42% & 0.79\n",
      "for 2018-03-13, MAE is:1.61 & sMAPE is:3.70% & rMAE is:0.26 ||| daily mean of MAE & sMAPE & rMAE till now are :6.47 & 12.30% & 0.78\n",
      "for 2018-03-14, MAE is:4.05 & sMAPE is:7.92% & rMAE is:2.98 ||| daily mean of MAE & sMAPE & rMAE till now are :6.43 & 12.24% & 0.81\n",
      "for 2018-03-15, MAE is:4.07 & sMAPE is:7.99% & rMAE is:0.68 ||| daily mean of MAE & sMAPE & rMAE till now are :6.40 & 12.18% & 0.81\n",
      "for 2018-03-16, MAE is:5.27 & sMAPE is:11.20% & rMAE is:1.69 ||| daily mean of MAE & sMAPE & rMAE till now are :6.39 & 12.17% & 0.82\n",
      "for 2018-03-17, MAE is:3.36 & sMAPE is:8.30% & rMAE is:3.08 ||| daily mean of MAE & sMAPE & rMAE till now are :6.35 & 12.12% & 0.85\n",
      "for 2018-03-18, MAE is:1.76 & sMAPE is:4.63% & rMAE is:1.44 ||| daily mean of MAE & sMAPE & rMAE till now are :6.29 & 12.02% & 0.86\n",
      "for 2018-03-19, MAE is:2.64 & sMAPE is:6.08% & rMAE is:1.36 ||| daily mean of MAE & sMAPE & rMAE till now are :6.24 & 11.94% & 0.87\n",
      "for 2018-03-20, MAE is:4.09 & sMAPE is:9.08% & rMAE is:1.50 ||| daily mean of MAE & sMAPE & rMAE till now are :6.21 & 11.91% & 0.88\n",
      "for 2018-03-21, MAE is:2.60 & sMAPE is:6.07% & rMAE is:0.38 ||| daily mean of MAE & sMAPE & rMAE till now are :6.17 & 11.83% & 0.87\n",
      "for 2018-03-22, MAE is:2.99 & sMAPE is:7.28% & rMAE is:0.48 ||| daily mean of MAE & sMAPE & rMAE till now are :6.13 & 11.78% & 0.86\n",
      "for 2018-03-23, MAE is:5.07 & sMAPE is:10.18% & rMAE is:0.89 ||| daily mean of MAE & sMAPE & rMAE till now are :6.11 & 11.76% & 0.86\n",
      "for 2018-03-24, MAE is:1.31 & sMAPE is:3.24% & rMAE is:0.57 ||| daily mean of MAE & sMAPE & rMAE till now are :6.06 & 11.66% & 0.86\n",
      "for 2018-03-25, MAE is:1.04 & sMAPE is:2.66% & rMAE is:0.45 ||| daily mean of MAE & sMAPE & rMAE till now are :6.00 & 11.55% & 0.86\n",
      "for 2018-03-26, MAE is:3.60 & sMAPE is:7.26% & rMAE is:0.62 ||| daily mean of MAE & sMAPE & rMAE till now are :5.97 & 11.50% & 0.85\n",
      "for 2018-03-27, MAE is:2.74 & sMAPE is:5.57% & rMAE is:0.47 ||| daily mean of MAE & sMAPE & rMAE till now are :5.93 & 11.43% & 0.85\n",
      "for 2018-03-28, MAE is:2.57 & sMAPE is:5.44% & rMAE is:0.53 ||| daily mean of MAE & sMAPE & rMAE till now are :5.89 & 11.36% & 0.85\n",
      "for 2018-03-29, MAE is:4.29 & sMAPE is:9.54% & rMAE is:2.62 ||| daily mean of MAE & sMAPE & rMAE till now are :5.87 & 11.34% & 0.87\n",
      "for 2018-03-30, MAE is:1.28 & sMAPE is:3.12% & rMAE is:0.19 ||| daily mean of MAE & sMAPE & rMAE till now are :5.82 & 11.25% & 0.86\n",
      "for 2018-03-31, MAE is:1.68 & sMAPE is:4.23% & rMAE is:1.33 ||| daily mean of MAE & sMAPE & rMAE till now are :5.78 & 11.17% & 0.86\n",
      "for 2018-04-01, MAE is:1.06 & sMAPE is:2.72% & rMAE is:0.76 ||| daily mean of MAE & sMAPE & rMAE till now are :5.73 & 11.08% & 0.86\n",
      "for 2018-04-02, MAE is:1.41 & sMAPE is:3.50% & rMAE is:0.17 ||| daily mean of MAE & sMAPE & rMAE till now are :5.68 & 10.99% & 0.85\n",
      "for 2018-04-03, MAE is:4.14 & sMAPE is:9.68% & rMAE is:1.42 ||| daily mean of MAE & sMAPE & rMAE till now are :5.66 & 10.98% & 0.86\n",
      "for 2018-04-04, MAE is:2.36 & sMAPE is:5.29% & rMAE is:0.62 ||| daily mean of MAE & sMAPE & rMAE till now are :5.63 & 10.92% & 0.86\n",
      "for 2018-04-05, MAE is:2.46 & sMAPE is:5.62% & rMAE is:0.97 ||| daily mean of MAE & sMAPE & rMAE till now are :5.59 & 10.86% & 0.86\n",
      "for 2018-04-06, MAE is:2.81 & sMAPE is:6.92% & rMAE is:1.32 ||| daily mean of MAE & sMAPE & rMAE till now are :5.56 & 10.82% & 0.86\n",
      "for 2018-04-07, MAE is:1.32 & sMAPE is:3.49% & rMAE is:1.50 ||| daily mean of MAE & sMAPE & rMAE till now are :5.52 & 10.75% & 0.87\n",
      "for 2018-04-08, MAE is:1.51 & sMAPE is:3.94% & rMAE is:2.39 ||| daily mean of MAE & sMAPE & rMAE till now are :5.48 & 10.68% & 0.89\n",
      "for 2018-04-09, MAE is:2.86 & sMAPE is:6.47% & rMAE is:0.74 ||| daily mean of MAE & sMAPE & rMAE till now are :5.45 & 10.64% & 0.88\n",
      "for 2018-04-10, MAE is:1.48 & sMAPE is:3.69% & rMAE is:0.54 ||| daily mean of MAE & sMAPE & rMAE till now are :5.41 & 10.57% & 0.88\n",
      "for 2018-04-11, MAE is:2.36 & sMAPE is:6.04% & rMAE is:0.99 ||| daily mean of MAE & sMAPE & rMAE till now are :5.38 & 10.52% & 0.88\n",
      "for 2018-04-12, MAE is:2.69 & sMAPE is:6.45% & rMAE is:1.15 ||| daily mean of MAE & sMAPE & rMAE till now are :5.36 & 10.48% & 0.88\n",
      "for 2018-04-13, MAE is:2.40 & sMAPE is:5.95% & rMAE is:1.49 ||| daily mean of MAE & sMAPE & rMAE till now are :5.33 & 10.44% & 0.89\n",
      "for 2018-04-14, MAE is:3.19 & sMAPE is:8.83% & rMAE is:1.22 ||| daily mean of MAE & sMAPE & rMAE till now are :5.31 & 10.42% & 0.89\n",
      "for 2018-04-15, MAE is:4.43 & sMAPE is:11.84% & rMAE is:12.40 ||| daily mean of MAE & sMAPE & rMAE till now are :5.30 & 10.44% & 1.00\n",
      "for 2018-04-16, MAE is:5.03 & sMAPE is:10.46% & rMAE is:1.13 ||| daily mean of MAE & sMAPE & rMAE till now are :5.30 & 10.44% & 1.00\n",
      "for 2018-04-17, MAE is:3.83 & sMAPE is:8.74% & rMAE is:1.16 ||| daily mean of MAE & sMAPE & rMAE till now are :5.28 & 10.42% & 1.01\n",
      "for 2018-04-18, MAE is:2.43 & sMAPE is:5.45% & rMAE is:0.99 ||| daily mean of MAE & sMAPE & rMAE till now are :5.26 & 10.37% & 1.01\n",
      "for 2018-04-19, MAE is:2.15 & sMAPE is:5.36% & rMAE is:0.97 ||| daily mean of MAE & sMAPE & rMAE till now are :5.23 & 10.33% & 1.01\n",
      "for 2018-04-20, MAE is:2.69 & sMAPE is:7.11% & rMAE is:0.75 ||| daily mean of MAE & sMAPE & rMAE till now are :5.20 & 10.30% & 1.00\n",
      "for 2018-04-21, MAE is:2.72 & sMAPE is:8.84% & rMAE is:0.45 ||| daily mean of MAE & sMAPE & rMAE till now are :5.18 & 10.29% & 1.00\n",
      "for 2018-04-22, MAE is:3.82 & sMAPE is:11.45% & rMAE is:0.78 ||| daily mean of MAE & sMAPE & rMAE till now are :5.17 & 10.30% & 1.00\n"
     ]
    },
    {
     "name": "stdout",
     "output_type": "stream",
     "text": [
      "for 2018-04-23, MAE is:12.07 & sMAPE is:27.05% & rMAE is:1.28 ||| daily mean of MAE & sMAPE & rMAE till now are :5.23 & 10.44% & 1.00\n",
      "for 2018-04-24, MAE is:4.13 & sMAPE is:11.98% & rMAE is:0.46 ||| daily mean of MAE & sMAPE & rMAE till now are :5.22 & 10.46% & 0.99\n",
      "for 2018-04-25, MAE is:10.27 & sMAPE is:27.18% & rMAE is:3.16 ||| daily mean of MAE & sMAPE & rMAE till now are :5.27 & 10.60% & 1.01\n",
      "for 2018-04-26, MAE is:4.84 & sMAPE is:11.42% & rMAE is:1.28 ||| daily mean of MAE & sMAPE & rMAE till now are :5.26 & 10.61% & 1.02\n",
      "for 2018-04-27, MAE is:12.33 & sMAPE is:23.01% & rMAE is:0.92 ||| daily mean of MAE & sMAPE & rMAE till now are :5.32 & 10.72% & 1.01\n",
      "for 2018-04-28, MAE is:5.70 & sMAPE is:15.28% & rMAE is:0.79 ||| daily mean of MAE & sMAPE & rMAE till now are :5.33 & 10.75% & 1.01\n",
      "for 2018-04-29, MAE is:3.50 & sMAPE is:10.61% & rMAE is:2.52 ||| daily mean of MAE & sMAPE & rMAE till now are :5.31 & 10.75% & 1.03\n",
      "for 2018-04-30, MAE is:6.81 & sMAPE is:18.61% & rMAE is:0.56 ||| daily mean of MAE & sMAPE & rMAE till now are :5.32 & 10.82% & 1.02\n",
      "for 2018-05-01, MAE is:9.45 & sMAPE is:46.58% & rMAE is:0.68 ||| daily mean of MAE & sMAPE & rMAE till now are :5.36 & 11.11% & 1.02\n",
      "for 2018-05-02, MAE is:4.50 & sMAPE is:14.07% & rMAE is:0.72 ||| daily mean of MAE & sMAPE & rMAE till now are :5.35 & 11.14% & 1.02\n",
      "for 2018-05-03, MAE is:22.89 & sMAPE is:29.17% & rMAE is:1.14 ||| daily mean of MAE & sMAPE & rMAE till now are :5.49 & 11.29% & 1.02\n",
      "for 2018-05-04, MAE is:8.78 & sMAPE is:23.46% & rMAE is:0.80 ||| daily mean of MAE & sMAPE & rMAE till now are :5.52 & 11.38% & 1.02\n",
      "for 2018-05-05, MAE is:2.54 & sMAPE is:8.01% & rMAE is:0.37 ||| daily mean of MAE & sMAPE & rMAE till now are :5.50 & 11.36% & 1.01\n",
      "for 2018-05-06, MAE is:7.56 & sMAPE is:41.75% & rMAE is:0.51 ||| daily mean of MAE & sMAPE & rMAE till now are :5.51 & 11.60% & 1.01\n",
      "for 2018-05-07, MAE is:10.43 & sMAPE is:51.86% & rMAE is:1.12 ||| daily mean of MAE & sMAPE & rMAE till now are :5.55 & 11.91% & 1.01\n",
      "for 2018-05-08, MAE is:20.56 & sMAPE is:66.71% & rMAE is:0.91 ||| daily mean of MAE & sMAPE & rMAE till now are :5.67 & 12.34% & 1.01\n",
      "for 2018-05-09, MAE is:11.26 & sMAPE is:78.28% & rMAE is:0.57 ||| daily mean of MAE & sMAPE & rMAE till now are :5.71 & 12.85% & 1.00\n",
      "for 2018-05-10, MAE is:6.01 & sMAPE is:56.68% & rMAE is:0.14 ||| daily mean of MAE & sMAPE & rMAE till now are :5.71 & 13.19% & 1.00\n",
      "for 2018-05-11, MAE is:13.01 & sMAPE is:64.78% & rMAE is:1.15 ||| daily mean of MAE & sMAPE & rMAE till now are :5.77 & 13.58% & 1.00\n",
      "for 2018-05-12, MAE is:7.00 & sMAPE is:27.40% & rMAE is:3.81 ||| daily mean of MAE & sMAPE & rMAE till now are :5.78 & 13.69% & 1.02\n",
      "for 2018-05-13, MAE is:4.34 & sMAPE is:23.74% & rMAE is:0.80 ||| daily mean of MAE & sMAPE & rMAE till now are :5.77 & 13.76% & 1.02\n",
      "for 2018-05-14, MAE is:15.92 & sMAPE is:27.71% & rMAE is:0.64 ||| daily mean of MAE & sMAPE & rMAE till now are :5.84 & 13.87% & 1.01\n",
      "for 2018-05-15, MAE is:18.53 & sMAPE is:40.81% & rMAE is:1.43 ||| daily mean of MAE & sMAPE & rMAE till now are :5.94 & 14.07% & 1.02\n",
      "for 2018-05-16, MAE is:39.08 & sMAPE is:47.06% & rMAE is:0.70 ||| daily mean of MAE & sMAPE & rMAE till now are :6.18 & 14.31% & 1.01\n",
      "for 2018-05-17, MAE is:14.94 & sMAPE is:52.74% & rMAE is:0.73 ||| daily mean of MAE & sMAPE & rMAE till now are :6.24 & 14.59% & 1.01\n",
      "for 2018-05-18, MAE is:6.86 & sMAPE is:27.56% & rMAE is:0.66 ||| daily mean of MAE & sMAPE & rMAE till now are :6.25 & 14.69% & 1.01\n",
      "for 2018-05-19, MAE is:8.88 & sMAPE is:29.19% & rMAE is:1.99 ||| daily mean of MAE & sMAPE & rMAE till now are :6.27 & 14.79% & 1.02\n",
      "for 2018-05-20, MAE is:4.42 & sMAPE is:17.62% & rMAE is:0.62 ||| daily mean of MAE & sMAPE & rMAE till now are :6.25 & 14.81% & 1.01\n"
     ]
    },
    {
     "ename": "KeyboardInterrupt",
     "evalue": "",
     "output_type": "error",
     "traceback": [
      "\u001b[1;31m---------------------------------------------------------------------------\u001b[0m",
      "\u001b[1;31mKeyboardInterrupt\u001b[0m                         Traceback (most recent call last)",
      "File \u001b[1;32m<timed exec>:12\u001b[0m, in \u001b[0;36m<module>\u001b[1;34m\u001b[0m\n",
      "File \u001b[1;32m~\\Time Series Paper\\Modular_Codes- V 6.1\\prediction.py:187\u001b[0m, in \u001b[0;36mrecalibrate_predict_over_horizon\u001b[1;34m(df, horizon, hp_params, calibration_years)\u001b[0m\n\u001b[0;32m    185\u001b[0m \u001b[38;5;28;01mfor\u001b[39;00m day \u001b[38;5;129;01min\u001b[39;00m horizon\u001b[38;5;241m.\u001b[39mresample(rule\u001b[38;5;241m=\u001b[39m\u001b[38;5;124m'\u001b[39m\u001b[38;5;124mD\u001b[39m\u001b[38;5;124m'\u001b[39m)\u001b[38;5;241m.\u001b[39mlast()\u001b[38;5;241m.\u001b[39mindex:\n\u001b[0;32m    186\u001b[0m     X_train_hist, X_train_fut, y_train, X_test_hist, X_test_fut, y_test \u001b[38;5;241m=\u001b[39m prepare_train_test_datasets(df, day, calibration_years, hist_features, fut_features, extracted_hp_params)\n\u001b[1;32m--> 187\u001b[0m     next_day_predicted_prices \u001b[38;5;241m=\u001b[39m np\u001b[38;5;241m.\u001b[39msqueeze(\u001b[43mtrain_and_predict_next_day\u001b[49m\u001b[43m(\u001b[49m\u001b[43mX_train_hist\u001b[49m\u001b[43m,\u001b[49m\u001b[43m \u001b[49m\u001b[43mX_train_fut\u001b[49m\u001b[43m,\u001b[49m\u001b[43m \u001b[49m\u001b[43my_train\u001b[49m\u001b[43m,\u001b[49m\u001b[43m \u001b[49m\u001b[43mX_test_hist\u001b[49m\u001b[43m,\u001b[49m\u001b[43m \u001b[49m\u001b[43mX_test_fut\u001b[49m\u001b[43m,\u001b[49m\u001b[43m \u001b[49m\u001b[43mextracted_hp_params\u001b[49m\u001b[43m)\u001b[49m\u001b[38;5;241m.\u001b[39mreshape(\u001b[38;5;241m-\u001b[39m\u001b[38;5;241m1\u001b[39m, \u001b[38;5;241m1\u001b[39m))\n\u001b[0;32m    188\u001b[0m     predictions\u001b[38;5;241m.\u001b[39mappend(next_day_predicted_prices)\n\u001b[0;32m    190\u001b[0m     next_day_real_prices \u001b[38;5;241m=\u001b[39m np\u001b[38;5;241m.\u001b[39marray(df\u001b[38;5;241m.\u001b[39mloc[day: day \u001b[38;5;241m+\u001b[39m pd\u001b[38;5;241m.\u001b[39mTimedelta(hours\u001b[38;5;241m=\u001b[39m\u001b[38;5;241m23\u001b[39m)][\u001b[38;5;124m'\u001b[39m\u001b[38;5;124mPrice_DA\u001b[39m\u001b[38;5;124m'\u001b[39m])\n",
      "File \u001b[1;32m~\\Time Series Paper\\Modular_Codes- V 6.1\\prediction.py:156\u001b[0m, in \u001b[0;36mtrain_and_predict_next_day\u001b[1;34m(X_train_hist, X_train_fut, y_train, X_test_hist, X_test_fut, extracted_hp_params)\u001b[0m\n\u001b[0;32m    154\u001b[0m optimizer \u001b[38;5;241m=\u001b[39m tf\u001b[38;5;241m.\u001b[39mkeras\u001b[38;5;241m.\u001b[39moptimizers\u001b[38;5;241m.\u001b[39mAdam(learning_rate\u001b[38;5;241m=\u001b[39mlearning_rate)\n\u001b[0;32m    155\u001b[0m model\u001b[38;5;241m.\u001b[39mcompile(optimizer\u001b[38;5;241m=\u001b[39moptimizer, loss\u001b[38;5;241m=\u001b[39m\u001b[38;5;124m'\u001b[39m\u001b[38;5;124mmae\u001b[39m\u001b[38;5;124m'\u001b[39m, metrics\u001b[38;5;241m=\u001b[39m[tf\u001b[38;5;241m.\u001b[39mkeras\u001b[38;5;241m.\u001b[39mmetrics\u001b[38;5;241m.\u001b[39mMAE])\n\u001b[1;32m--> 156\u001b[0m \u001b[43mmodel\u001b[49m\u001b[38;5;241;43m.\u001b[39;49m\u001b[43mfit\u001b[49m\u001b[43m(\u001b[49m\u001b[43m[\u001b[49m\u001b[43mX_train_hist\u001b[49m\u001b[43m,\u001b[49m\u001b[43m \u001b[49m\u001b[43mX_train_fut\u001b[49m\u001b[43m]\u001b[49m\u001b[43m,\u001b[49m\u001b[43m \u001b[49m\u001b[43my_train\u001b[49m\u001b[43m,\u001b[49m\u001b[43m \u001b[49m\u001b[43mepochs\u001b[49m\u001b[38;5;241;43m=\u001b[39;49m\u001b[38;5;241;43m1000\u001b[39;49m\u001b[43m,\u001b[49m\u001b[43m \u001b[49m\u001b[43mvalidation_split\u001b[49m\u001b[38;5;241;43m=\u001b[39;49m\u001b[38;5;241;43m0.2\u001b[39;49m\u001b[43m,\u001b[49m\u001b[43m \u001b[49m\u001b[43mcallbacks\u001b[49m\u001b[38;5;241;43m=\u001b[39;49m\u001b[43m[\u001b[49m\u001b[43mtf\u001b[49m\u001b[38;5;241;43m.\u001b[39;49m\u001b[43mkeras\u001b[49m\u001b[38;5;241;43m.\u001b[39;49m\u001b[43mcallbacks\u001b[49m\u001b[38;5;241;43m.\u001b[39;49m\u001b[43mEarlyStopping\u001b[49m\u001b[43m(\u001b[49m\u001b[43mpatience\u001b[49m\u001b[38;5;241;43m=\u001b[39;49m\u001b[38;5;241;43m20\u001b[39;49m\u001b[43m,\u001b[49m\u001b[43m \u001b[49m\u001b[43mrestore_best_weights\u001b[49m\u001b[38;5;241;43m=\u001b[39;49m\u001b[38;5;28;43;01mTrue\u001b[39;49;00m\u001b[43m)\u001b[49m\u001b[43m]\u001b[49m\u001b[43m,\u001b[49m\u001b[43m \u001b[49m\u001b[43mverbose\u001b[49m\u001b[38;5;241;43m=\u001b[39;49m\u001b[38;5;241;43m0\u001b[39;49m\u001b[43m,\u001b[49m\u001b[43m \u001b[49m\u001b[43mbatch_size\u001b[49m\u001b[38;5;241;43m=\u001b[39;49m\u001b[43mbatch_size\u001b[49m\u001b[43m,\u001b[49m\u001b[43m \u001b[49m\u001b[43mshuffle\u001b[49m\u001b[38;5;241;43m=\u001b[39;49m\u001b[38;5;28;43;01mTrue\u001b[39;49;00m\u001b[43m)\u001b[49m\n\u001b[0;32m    158\u001b[0m \u001b[38;5;28;01mreturn\u001b[39;00m model\u001b[38;5;241m.\u001b[39mpredict([X_test_hist, X_test_fut], verbose\u001b[38;5;241m=\u001b[39m\u001b[38;5;241m0\u001b[39m)\n",
      "File \u001b[1;32m~\\Anaconda3\\envs\\ML\\lib\\site-packages\\keras\\utils\\traceback_utils.py:64\u001b[0m, in \u001b[0;36mfilter_traceback.<locals>.error_handler\u001b[1;34m(*args, **kwargs)\u001b[0m\n\u001b[0;32m     62\u001b[0m filtered_tb \u001b[38;5;241m=\u001b[39m \u001b[38;5;28;01mNone\u001b[39;00m\n\u001b[0;32m     63\u001b[0m \u001b[38;5;28;01mtry\u001b[39;00m:\n\u001b[1;32m---> 64\u001b[0m   \u001b[38;5;28;01mreturn\u001b[39;00m fn(\u001b[38;5;241m*\u001b[39margs, \u001b[38;5;241m*\u001b[39m\u001b[38;5;241m*\u001b[39mkwargs)\n\u001b[0;32m     65\u001b[0m \u001b[38;5;28;01mexcept\u001b[39;00m \u001b[38;5;167;01mException\u001b[39;00m \u001b[38;5;28;01mas\u001b[39;00m e:  \u001b[38;5;66;03m# pylint: disable=broad-except\u001b[39;00m\n\u001b[0;32m     66\u001b[0m   filtered_tb \u001b[38;5;241m=\u001b[39m _process_traceback_frames(e\u001b[38;5;241m.\u001b[39m__traceback__)\n",
      "File \u001b[1;32m~\\Anaconda3\\envs\\ML\\lib\\site-packages\\keras\\engine\\training.py:1409\u001b[0m, in \u001b[0;36mModel.fit\u001b[1;34m(self, x, y, batch_size, epochs, verbose, callbacks, validation_split, validation_data, shuffle, class_weight, sample_weight, initial_epoch, steps_per_epoch, validation_steps, validation_batch_size, validation_freq, max_queue_size, workers, use_multiprocessing)\u001b[0m\n\u001b[0;32m   1402\u001b[0m \u001b[38;5;28;01mwith\u001b[39;00m tf\u001b[38;5;241m.\u001b[39mprofiler\u001b[38;5;241m.\u001b[39mexperimental\u001b[38;5;241m.\u001b[39mTrace(\n\u001b[0;32m   1403\u001b[0m     \u001b[38;5;124m'\u001b[39m\u001b[38;5;124mtrain\u001b[39m\u001b[38;5;124m'\u001b[39m,\n\u001b[0;32m   1404\u001b[0m     epoch_num\u001b[38;5;241m=\u001b[39mepoch,\n\u001b[0;32m   1405\u001b[0m     step_num\u001b[38;5;241m=\u001b[39mstep,\n\u001b[0;32m   1406\u001b[0m     batch_size\u001b[38;5;241m=\u001b[39mbatch_size,\n\u001b[0;32m   1407\u001b[0m     _r\u001b[38;5;241m=\u001b[39m\u001b[38;5;241m1\u001b[39m):\n\u001b[0;32m   1408\u001b[0m   callbacks\u001b[38;5;241m.\u001b[39mon_train_batch_begin(step)\n\u001b[1;32m-> 1409\u001b[0m   tmp_logs \u001b[38;5;241m=\u001b[39m \u001b[38;5;28;43mself\u001b[39;49m\u001b[38;5;241;43m.\u001b[39;49m\u001b[43mtrain_function\u001b[49m\u001b[43m(\u001b[49m\u001b[43miterator\u001b[49m\u001b[43m)\u001b[49m\n\u001b[0;32m   1410\u001b[0m   \u001b[38;5;28;01mif\u001b[39;00m data_handler\u001b[38;5;241m.\u001b[39mshould_sync:\n\u001b[0;32m   1411\u001b[0m     context\u001b[38;5;241m.\u001b[39masync_wait()\n",
      "File \u001b[1;32m~\\Anaconda3\\envs\\ML\\lib\\site-packages\\tensorflow\\python\\util\\traceback_utils.py:150\u001b[0m, in \u001b[0;36mfilter_traceback.<locals>.error_handler\u001b[1;34m(*args, **kwargs)\u001b[0m\n\u001b[0;32m    148\u001b[0m filtered_tb \u001b[38;5;241m=\u001b[39m \u001b[38;5;28;01mNone\u001b[39;00m\n\u001b[0;32m    149\u001b[0m \u001b[38;5;28;01mtry\u001b[39;00m:\n\u001b[1;32m--> 150\u001b[0m   \u001b[38;5;28;01mreturn\u001b[39;00m fn(\u001b[38;5;241m*\u001b[39margs, \u001b[38;5;241m*\u001b[39m\u001b[38;5;241m*\u001b[39mkwargs)\n\u001b[0;32m    151\u001b[0m \u001b[38;5;28;01mexcept\u001b[39;00m \u001b[38;5;167;01mException\u001b[39;00m \u001b[38;5;28;01mas\u001b[39;00m e:\n\u001b[0;32m    152\u001b[0m   filtered_tb \u001b[38;5;241m=\u001b[39m _process_traceback_frames(e\u001b[38;5;241m.\u001b[39m__traceback__)\n",
      "File \u001b[1;32m~\\Anaconda3\\envs\\ML\\lib\\site-packages\\tensorflow\\python\\eager\\def_function.py:915\u001b[0m, in \u001b[0;36mFunction.__call__\u001b[1;34m(self, *args, **kwds)\u001b[0m\n\u001b[0;32m    912\u001b[0m compiler \u001b[38;5;241m=\u001b[39m \u001b[38;5;124m\"\u001b[39m\u001b[38;5;124mxla\u001b[39m\u001b[38;5;124m\"\u001b[39m \u001b[38;5;28;01mif\u001b[39;00m \u001b[38;5;28mself\u001b[39m\u001b[38;5;241m.\u001b[39m_jit_compile \u001b[38;5;28;01melse\u001b[39;00m \u001b[38;5;124m\"\u001b[39m\u001b[38;5;124mnonXla\u001b[39m\u001b[38;5;124m\"\u001b[39m\n\u001b[0;32m    914\u001b[0m \u001b[38;5;28;01mwith\u001b[39;00m OptionalXlaContext(\u001b[38;5;28mself\u001b[39m\u001b[38;5;241m.\u001b[39m_jit_compile):\n\u001b[1;32m--> 915\u001b[0m   result \u001b[38;5;241m=\u001b[39m \u001b[38;5;28mself\u001b[39m\u001b[38;5;241m.\u001b[39m_call(\u001b[38;5;241m*\u001b[39margs, \u001b[38;5;241m*\u001b[39m\u001b[38;5;241m*\u001b[39mkwds)\n\u001b[0;32m    917\u001b[0m new_tracing_count \u001b[38;5;241m=\u001b[39m \u001b[38;5;28mself\u001b[39m\u001b[38;5;241m.\u001b[39mexperimental_get_tracing_count()\n\u001b[0;32m    918\u001b[0m without_tracing \u001b[38;5;241m=\u001b[39m (tracing_count \u001b[38;5;241m==\u001b[39m new_tracing_count)\n",
      "File \u001b[1;32m~\\Anaconda3\\envs\\ML\\lib\\site-packages\\tensorflow\\python\\eager\\def_function.py:947\u001b[0m, in \u001b[0;36mFunction._call\u001b[1;34m(self, *args, **kwds)\u001b[0m\n\u001b[0;32m    944\u001b[0m   \u001b[38;5;28mself\u001b[39m\u001b[38;5;241m.\u001b[39m_lock\u001b[38;5;241m.\u001b[39mrelease()\n\u001b[0;32m    945\u001b[0m   \u001b[38;5;66;03m# In this case we have created variables on the first call, so we run the\u001b[39;00m\n\u001b[0;32m    946\u001b[0m   \u001b[38;5;66;03m# defunned version which is guaranteed to never create variables.\u001b[39;00m\n\u001b[1;32m--> 947\u001b[0m   \u001b[38;5;28;01mreturn\u001b[39;00m \u001b[38;5;28mself\u001b[39m\u001b[38;5;241m.\u001b[39m_stateless_fn(\u001b[38;5;241m*\u001b[39margs, \u001b[38;5;241m*\u001b[39m\u001b[38;5;241m*\u001b[39mkwds)  \u001b[38;5;66;03m# pylint: disable=not-callable\u001b[39;00m\n\u001b[0;32m    948\u001b[0m \u001b[38;5;28;01melif\u001b[39;00m \u001b[38;5;28mself\u001b[39m\u001b[38;5;241m.\u001b[39m_stateful_fn \u001b[38;5;129;01mis\u001b[39;00m \u001b[38;5;129;01mnot\u001b[39;00m \u001b[38;5;28;01mNone\u001b[39;00m:\n\u001b[0;32m    949\u001b[0m   \u001b[38;5;66;03m# Release the lock early so that multiple threads can perform the call\u001b[39;00m\n\u001b[0;32m    950\u001b[0m   \u001b[38;5;66;03m# in parallel.\u001b[39;00m\n\u001b[0;32m    951\u001b[0m   \u001b[38;5;28mself\u001b[39m\u001b[38;5;241m.\u001b[39m_lock\u001b[38;5;241m.\u001b[39mrelease()\n",
      "File \u001b[1;32m~\\Anaconda3\\envs\\ML\\lib\\site-packages\\tensorflow\\python\\eager\\function.py:2453\u001b[0m, in \u001b[0;36mFunction.__call__\u001b[1;34m(self, *args, **kwargs)\u001b[0m\n\u001b[0;32m   2450\u001b[0m \u001b[38;5;28;01mwith\u001b[39;00m \u001b[38;5;28mself\u001b[39m\u001b[38;5;241m.\u001b[39m_lock:\n\u001b[0;32m   2451\u001b[0m   (graph_function,\n\u001b[0;32m   2452\u001b[0m    filtered_flat_args) \u001b[38;5;241m=\u001b[39m \u001b[38;5;28mself\u001b[39m\u001b[38;5;241m.\u001b[39m_maybe_define_function(args, kwargs)\n\u001b[1;32m-> 2453\u001b[0m \u001b[38;5;28;01mreturn\u001b[39;00m \u001b[43mgraph_function\u001b[49m\u001b[38;5;241;43m.\u001b[39;49m\u001b[43m_call_flat\u001b[49m\u001b[43m(\u001b[49m\n\u001b[0;32m   2454\u001b[0m \u001b[43m    \u001b[49m\u001b[43mfiltered_flat_args\u001b[49m\u001b[43m,\u001b[49m\u001b[43m \u001b[49m\u001b[43mcaptured_inputs\u001b[49m\u001b[38;5;241;43m=\u001b[39;49m\u001b[43mgraph_function\u001b[49m\u001b[38;5;241;43m.\u001b[39;49m\u001b[43mcaptured_inputs\u001b[49m\u001b[43m)\u001b[49m\n",
      "File \u001b[1;32m~\\Anaconda3\\envs\\ML\\lib\\site-packages\\tensorflow\\python\\eager\\function.py:1860\u001b[0m, in \u001b[0;36mConcreteFunction._call_flat\u001b[1;34m(self, args, captured_inputs, cancellation_manager)\u001b[0m\n\u001b[0;32m   1856\u001b[0m possible_gradient_type \u001b[38;5;241m=\u001b[39m gradients_util\u001b[38;5;241m.\u001b[39mPossibleTapeGradientTypes(args)\n\u001b[0;32m   1857\u001b[0m \u001b[38;5;28;01mif\u001b[39;00m (possible_gradient_type \u001b[38;5;241m==\u001b[39m gradients_util\u001b[38;5;241m.\u001b[39mPOSSIBLE_GRADIENT_TYPES_NONE\n\u001b[0;32m   1858\u001b[0m     \u001b[38;5;129;01mand\u001b[39;00m executing_eagerly):\n\u001b[0;32m   1859\u001b[0m   \u001b[38;5;66;03m# No tape is watching; skip to running the function.\u001b[39;00m\n\u001b[1;32m-> 1860\u001b[0m   \u001b[38;5;28;01mreturn\u001b[39;00m \u001b[38;5;28mself\u001b[39m\u001b[38;5;241m.\u001b[39m_build_call_outputs(\u001b[38;5;28;43mself\u001b[39;49m\u001b[38;5;241;43m.\u001b[39;49m\u001b[43m_inference_function\u001b[49m\u001b[38;5;241;43m.\u001b[39;49m\u001b[43mcall\u001b[49m\u001b[43m(\u001b[49m\n\u001b[0;32m   1861\u001b[0m \u001b[43m      \u001b[49m\u001b[43mctx\u001b[49m\u001b[43m,\u001b[49m\u001b[43m \u001b[49m\u001b[43margs\u001b[49m\u001b[43m,\u001b[49m\u001b[43m \u001b[49m\u001b[43mcancellation_manager\u001b[49m\u001b[38;5;241;43m=\u001b[39;49m\u001b[43mcancellation_manager\u001b[49m\u001b[43m)\u001b[49m)\n\u001b[0;32m   1862\u001b[0m forward_backward \u001b[38;5;241m=\u001b[39m \u001b[38;5;28mself\u001b[39m\u001b[38;5;241m.\u001b[39m_select_forward_and_backward_functions(\n\u001b[0;32m   1863\u001b[0m     args,\n\u001b[0;32m   1864\u001b[0m     possible_gradient_type,\n\u001b[0;32m   1865\u001b[0m     executing_eagerly)\n\u001b[0;32m   1866\u001b[0m forward_function, args_with_tangents \u001b[38;5;241m=\u001b[39m forward_backward\u001b[38;5;241m.\u001b[39mforward()\n",
      "File \u001b[1;32m~\\Anaconda3\\envs\\ML\\lib\\site-packages\\tensorflow\\python\\eager\\function.py:497\u001b[0m, in \u001b[0;36m_EagerDefinedFunction.call\u001b[1;34m(self, ctx, args, cancellation_manager)\u001b[0m\n\u001b[0;32m    495\u001b[0m \u001b[38;5;28;01mwith\u001b[39;00m _InterpolateFunctionError(\u001b[38;5;28mself\u001b[39m):\n\u001b[0;32m    496\u001b[0m   \u001b[38;5;28;01mif\u001b[39;00m cancellation_manager \u001b[38;5;129;01mis\u001b[39;00m \u001b[38;5;28;01mNone\u001b[39;00m:\n\u001b[1;32m--> 497\u001b[0m     outputs \u001b[38;5;241m=\u001b[39m \u001b[43mexecute\u001b[49m\u001b[38;5;241;43m.\u001b[39;49m\u001b[43mexecute\u001b[49m\u001b[43m(\u001b[49m\n\u001b[0;32m    498\u001b[0m \u001b[43m        \u001b[49m\u001b[38;5;28;43mstr\u001b[39;49m\u001b[43m(\u001b[49m\u001b[38;5;28;43mself\u001b[39;49m\u001b[38;5;241;43m.\u001b[39;49m\u001b[43msignature\u001b[49m\u001b[38;5;241;43m.\u001b[39;49m\u001b[43mname\u001b[49m\u001b[43m)\u001b[49m\u001b[43m,\u001b[49m\n\u001b[0;32m    499\u001b[0m \u001b[43m        \u001b[49m\u001b[43mnum_outputs\u001b[49m\u001b[38;5;241;43m=\u001b[39;49m\u001b[38;5;28;43mself\u001b[39;49m\u001b[38;5;241;43m.\u001b[39;49m\u001b[43m_num_outputs\u001b[49m\u001b[43m,\u001b[49m\n\u001b[0;32m    500\u001b[0m \u001b[43m        \u001b[49m\u001b[43minputs\u001b[49m\u001b[38;5;241;43m=\u001b[39;49m\u001b[43margs\u001b[49m\u001b[43m,\u001b[49m\n\u001b[0;32m    501\u001b[0m \u001b[43m        \u001b[49m\u001b[43mattrs\u001b[49m\u001b[38;5;241;43m=\u001b[39;49m\u001b[43mattrs\u001b[49m\u001b[43m,\u001b[49m\n\u001b[0;32m    502\u001b[0m \u001b[43m        \u001b[49m\u001b[43mctx\u001b[49m\u001b[38;5;241;43m=\u001b[39;49m\u001b[43mctx\u001b[49m\u001b[43m)\u001b[49m\n\u001b[0;32m    503\u001b[0m   \u001b[38;5;28;01melse\u001b[39;00m:\n\u001b[0;32m    504\u001b[0m     outputs \u001b[38;5;241m=\u001b[39m execute\u001b[38;5;241m.\u001b[39mexecute_with_cancellation(\n\u001b[0;32m    505\u001b[0m         \u001b[38;5;28mstr\u001b[39m(\u001b[38;5;28mself\u001b[39m\u001b[38;5;241m.\u001b[39msignature\u001b[38;5;241m.\u001b[39mname),\n\u001b[0;32m    506\u001b[0m         num_outputs\u001b[38;5;241m=\u001b[39m\u001b[38;5;28mself\u001b[39m\u001b[38;5;241m.\u001b[39m_num_outputs,\n\u001b[1;32m   (...)\u001b[0m\n\u001b[0;32m    509\u001b[0m         ctx\u001b[38;5;241m=\u001b[39mctx,\n\u001b[0;32m    510\u001b[0m         cancellation_manager\u001b[38;5;241m=\u001b[39mcancellation_manager)\n",
      "File \u001b[1;32m~\\Anaconda3\\envs\\ML\\lib\\site-packages\\tensorflow\\python\\eager\\execute.py:54\u001b[0m, in \u001b[0;36mquick_execute\u001b[1;34m(op_name, num_outputs, inputs, attrs, ctx, name)\u001b[0m\n\u001b[0;32m     52\u001b[0m \u001b[38;5;28;01mtry\u001b[39;00m:\n\u001b[0;32m     53\u001b[0m   ctx\u001b[38;5;241m.\u001b[39mensure_initialized()\n\u001b[1;32m---> 54\u001b[0m   tensors \u001b[38;5;241m=\u001b[39m \u001b[43mpywrap_tfe\u001b[49m\u001b[38;5;241;43m.\u001b[39;49m\u001b[43mTFE_Py_Execute\u001b[49m\u001b[43m(\u001b[49m\u001b[43mctx\u001b[49m\u001b[38;5;241;43m.\u001b[39;49m\u001b[43m_handle\u001b[49m\u001b[43m,\u001b[49m\u001b[43m \u001b[49m\u001b[43mdevice_name\u001b[49m\u001b[43m,\u001b[49m\u001b[43m \u001b[49m\u001b[43mop_name\u001b[49m\u001b[43m,\u001b[49m\n\u001b[0;32m     55\u001b[0m \u001b[43m                                      \u001b[49m\u001b[43minputs\u001b[49m\u001b[43m,\u001b[49m\u001b[43m \u001b[49m\u001b[43mattrs\u001b[49m\u001b[43m,\u001b[49m\u001b[43m \u001b[49m\u001b[43mnum_outputs\u001b[49m\u001b[43m)\u001b[49m\n\u001b[0;32m     56\u001b[0m \u001b[38;5;28;01mexcept\u001b[39;00m core\u001b[38;5;241m.\u001b[39m_NotOkStatusException \u001b[38;5;28;01mas\u001b[39;00m e:\n\u001b[0;32m     57\u001b[0m   \u001b[38;5;28;01mif\u001b[39;00m name \u001b[38;5;129;01mis\u001b[39;00m \u001b[38;5;129;01mnot\u001b[39;00m \u001b[38;5;28;01mNone\u001b[39;00m:\n",
      "\u001b[1;31mKeyboardInterrupt\u001b[0m: "
     ]
    }
   ],
   "source": [
    "%%time\n",
    "\n",
    "df = wrangle_data(source_folder='data', return_dfs=True, store = False, destination_folder=None)[zone]\n",
    "\n",
    "for test_year in range(2018,2023):\n",
    "    \n",
    "    df_train, df_valid, df_test = split_dataframe_by_years(dataframe=df, test_year=test_year, num_validation_years=1, num_train_years=2)\n",
    "    study_name = zone + '_' + str(test_year)\n",
    "    optimize_hyperparameters(df_train, df_valid, df_test, study_name=study_name, n_trials=5, n_jobs=4)\n",
    "    hp_study = optuna.load_study(study_name=study_name, storage='sqlite:///hyperparameter_optimization_trials/' + study_name + '.db')\n",
    "    hp_params = hp_study.best_params\n",
    "\n",
    "\n",
    "    preds, metrics = recalibrate_predict_over_horizon(df, df_test, hp_params, calibration_years=3)\n",
    "    new_metric = sMAPE(preds.values.flatten(), df_test['Price_DA'].values.flatten())\n",
    "\n",
    "\n",
    "    preds.to_pickle(directory + '/' + str(test_year)  +'_preds.pkl')\n",
    "    metrics.to_pickle(directory + '/' + str(test_year)  +'_metrics.pkl')\n"
   ]
  },
  {
   "cell_type": "code",
   "execution_count": 5,
   "metadata": {},
   "outputs": [
    {
     "ename": "ValueError",
     "evalue": "No objects to concatenate",
     "output_type": "error",
     "traceback": [
      "\u001b[1;31m---------------------------------------------------------------------------\u001b[0m",
      "\u001b[1;31mValueError\u001b[0m                                Traceback (most recent call last)",
      "Input \u001b[1;32mIn [5]\u001b[0m, in \u001b[0;36m<cell line: 8>\u001b[1;34m()\u001b[0m\n\u001b[0;32m      5\u001b[0m         data_frames\u001b[38;5;241m.\u001b[39mappend(pd\u001b[38;5;241m.\u001b[39mread_pickle(f))\n\u001b[0;32m      7\u001b[0m \u001b[38;5;66;03m# concatenate all DataFrames in the list into one DataFrame\u001b[39;00m\n\u001b[1;32m----> 8\u001b[0m Predictions \u001b[38;5;241m=\u001b[39m \u001b[43mpd\u001b[49m\u001b[38;5;241;43m.\u001b[39;49m\u001b[43mconcat\u001b[49m\u001b[43m(\u001b[49m\u001b[43mdata_frames\u001b[49m\u001b[43m)\u001b[49m\n",
      "File \u001b[1;32m~\\Anaconda3\\envs\\ML\\lib\\site-packages\\pandas\\util\\_decorators.py:311\u001b[0m, in \u001b[0;36mdeprecate_nonkeyword_arguments.<locals>.decorate.<locals>.wrapper\u001b[1;34m(*args, **kwargs)\u001b[0m\n\u001b[0;32m    305\u001b[0m \u001b[38;5;28;01mif\u001b[39;00m \u001b[38;5;28mlen\u001b[39m(args) \u001b[38;5;241m>\u001b[39m num_allow_args:\n\u001b[0;32m    306\u001b[0m     warnings\u001b[38;5;241m.\u001b[39mwarn(\n\u001b[0;32m    307\u001b[0m         msg\u001b[38;5;241m.\u001b[39mformat(arguments\u001b[38;5;241m=\u001b[39marguments),\n\u001b[0;32m    308\u001b[0m         \u001b[38;5;167;01mFutureWarning\u001b[39;00m,\n\u001b[0;32m    309\u001b[0m         stacklevel\u001b[38;5;241m=\u001b[39mstacklevel,\n\u001b[0;32m    310\u001b[0m     )\n\u001b[1;32m--> 311\u001b[0m \u001b[38;5;28;01mreturn\u001b[39;00m func(\u001b[38;5;241m*\u001b[39margs, \u001b[38;5;241m*\u001b[39m\u001b[38;5;241m*\u001b[39mkwargs)\n",
      "File \u001b[1;32m~\\Anaconda3\\envs\\ML\\lib\\site-packages\\pandas\\core\\reshape\\concat.py:347\u001b[0m, in \u001b[0;36mconcat\u001b[1;34m(objs, axis, join, ignore_index, keys, levels, names, verify_integrity, sort, copy)\u001b[0m\n\u001b[0;32m    143\u001b[0m \u001b[38;5;129m@deprecate_nonkeyword_arguments\u001b[39m(version\u001b[38;5;241m=\u001b[39m\u001b[38;5;28;01mNone\u001b[39;00m, allowed_args\u001b[38;5;241m=\u001b[39m[\u001b[38;5;124m\"\u001b[39m\u001b[38;5;124mobjs\u001b[39m\u001b[38;5;124m\"\u001b[39m])\n\u001b[0;32m    144\u001b[0m \u001b[38;5;28;01mdef\u001b[39;00m \u001b[38;5;21mconcat\u001b[39m(\n\u001b[0;32m    145\u001b[0m     objs: Iterable[NDFrame] \u001b[38;5;241m|\u001b[39m Mapping[Hashable, NDFrame],\n\u001b[1;32m   (...)\u001b[0m\n\u001b[0;32m    154\u001b[0m     copy: \u001b[38;5;28mbool\u001b[39m \u001b[38;5;241m=\u001b[39m \u001b[38;5;28;01mTrue\u001b[39;00m,\n\u001b[0;32m    155\u001b[0m ) \u001b[38;5;241m-\u001b[39m\u001b[38;5;241m>\u001b[39m DataFrame \u001b[38;5;241m|\u001b[39m Series:\n\u001b[0;32m    156\u001b[0m     \u001b[38;5;124;03m\"\"\"\u001b[39;00m\n\u001b[0;32m    157\u001b[0m \u001b[38;5;124;03m    Concatenate pandas objects along a particular axis with optional set logic\u001b[39;00m\n\u001b[0;32m    158\u001b[0m \u001b[38;5;124;03m    along the other axes.\u001b[39;00m\n\u001b[1;32m   (...)\u001b[0m\n\u001b[0;32m    345\u001b[0m \u001b[38;5;124;03m    ValueError: Indexes have overlapping values: ['a']\u001b[39;00m\n\u001b[0;32m    346\u001b[0m \u001b[38;5;124;03m    \"\"\"\u001b[39;00m\n\u001b[1;32m--> 347\u001b[0m     op \u001b[38;5;241m=\u001b[39m \u001b[43m_Concatenator\u001b[49m\u001b[43m(\u001b[49m\n\u001b[0;32m    348\u001b[0m \u001b[43m        \u001b[49m\u001b[43mobjs\u001b[49m\u001b[43m,\u001b[49m\n\u001b[0;32m    349\u001b[0m \u001b[43m        \u001b[49m\u001b[43maxis\u001b[49m\u001b[38;5;241;43m=\u001b[39;49m\u001b[43maxis\u001b[49m\u001b[43m,\u001b[49m\n\u001b[0;32m    350\u001b[0m \u001b[43m        \u001b[49m\u001b[43mignore_index\u001b[49m\u001b[38;5;241;43m=\u001b[39;49m\u001b[43mignore_index\u001b[49m\u001b[43m,\u001b[49m\n\u001b[0;32m    351\u001b[0m \u001b[43m        \u001b[49m\u001b[43mjoin\u001b[49m\u001b[38;5;241;43m=\u001b[39;49m\u001b[43mjoin\u001b[49m\u001b[43m,\u001b[49m\n\u001b[0;32m    352\u001b[0m \u001b[43m        \u001b[49m\u001b[43mkeys\u001b[49m\u001b[38;5;241;43m=\u001b[39;49m\u001b[43mkeys\u001b[49m\u001b[43m,\u001b[49m\n\u001b[0;32m    353\u001b[0m \u001b[43m        \u001b[49m\u001b[43mlevels\u001b[49m\u001b[38;5;241;43m=\u001b[39;49m\u001b[43mlevels\u001b[49m\u001b[43m,\u001b[49m\n\u001b[0;32m    354\u001b[0m \u001b[43m        \u001b[49m\u001b[43mnames\u001b[49m\u001b[38;5;241;43m=\u001b[39;49m\u001b[43mnames\u001b[49m\u001b[43m,\u001b[49m\n\u001b[0;32m    355\u001b[0m \u001b[43m        \u001b[49m\u001b[43mverify_integrity\u001b[49m\u001b[38;5;241;43m=\u001b[39;49m\u001b[43mverify_integrity\u001b[49m\u001b[43m,\u001b[49m\n\u001b[0;32m    356\u001b[0m \u001b[43m        \u001b[49m\u001b[43mcopy\u001b[49m\u001b[38;5;241;43m=\u001b[39;49m\u001b[43mcopy\u001b[49m\u001b[43m,\u001b[49m\n\u001b[0;32m    357\u001b[0m \u001b[43m        \u001b[49m\u001b[43msort\u001b[49m\u001b[38;5;241;43m=\u001b[39;49m\u001b[43msort\u001b[49m\u001b[43m,\u001b[49m\n\u001b[0;32m    358\u001b[0m \u001b[43m    \u001b[49m\u001b[43m)\u001b[49m\n\u001b[0;32m    360\u001b[0m     \u001b[38;5;28;01mreturn\u001b[39;00m op\u001b[38;5;241m.\u001b[39mget_result()\n",
      "File \u001b[1;32m~\\Anaconda3\\envs\\ML\\lib\\site-packages\\pandas\\core\\reshape\\concat.py:404\u001b[0m, in \u001b[0;36m_Concatenator.__init__\u001b[1;34m(self, objs, axis, join, keys, levels, names, ignore_index, verify_integrity, copy, sort)\u001b[0m\n\u001b[0;32m    401\u001b[0m     objs \u001b[38;5;241m=\u001b[39m \u001b[38;5;28mlist\u001b[39m(objs)\n\u001b[0;32m    403\u001b[0m \u001b[38;5;28;01mif\u001b[39;00m \u001b[38;5;28mlen\u001b[39m(objs) \u001b[38;5;241m==\u001b[39m \u001b[38;5;241m0\u001b[39m:\n\u001b[1;32m--> 404\u001b[0m     \u001b[38;5;28;01mraise\u001b[39;00m \u001b[38;5;167;01mValueError\u001b[39;00m(\u001b[38;5;124m\"\u001b[39m\u001b[38;5;124mNo objects to concatenate\u001b[39m\u001b[38;5;124m\"\u001b[39m)\n\u001b[0;32m    406\u001b[0m \u001b[38;5;28;01mif\u001b[39;00m keys \u001b[38;5;129;01mis\u001b[39;00m \u001b[38;5;28;01mNone\u001b[39;00m:\n\u001b[0;32m    407\u001b[0m     objs \u001b[38;5;241m=\u001b[39m \u001b[38;5;28mlist\u001b[39m(com\u001b[38;5;241m.\u001b[39mnot_none(\u001b[38;5;241m*\u001b[39mobjs))\n",
      "\u001b[1;31mValueError\u001b[0m: No objects to concatenate"
     ]
    }
   ],
   "source": [
    "files = glob.glob(zone +'/'+\"*preds.pkl\")\n",
    "data_frames = []\n",
    "for file in files:\n",
    "    with open(file, 'rb') as f:\n",
    "        data_frames.append(pd.read_pickle(f))\n",
    "\n",
    "# concatenate all DataFrames in the list into one DataFrame\n",
    "Predictions = pd.concat(data_frames)"
   ]
  },
  {
   "cell_type": "code",
   "execution_count": null,
   "metadata": {},
   "outputs": [],
   "source": [
    "files = glob.glob(zone +'/'+\"*metrics.pkl\")\n",
    "data_frames = []\n",
    "for file in files:\n",
    "    with open(file, 'rb') as f:\n",
    "        data_frames.append(pd.read_pickle(f))\n",
    "\n",
    "# concatenate all DataFrames in the list into one DataFrame\n",
    "Metrics = pd.concat(data_frames)"
   ]
  },
  {
   "cell_type": "code",
   "execution_count": null,
   "metadata": {},
   "outputs": [],
   "source": [
    "Predictions.to_csv(directory + '/' + 'Predictions.csv')"
   ]
  },
  {
   "cell_type": "code",
   "execution_count": null,
   "metadata": {},
   "outputs": [],
   "source": [
    "Metrics.to_csv(directory + '/' + 'Metrics.csv')"
   ]
  },
  {
   "cell_type": "code",
   "execution_count": null,
   "metadata": {},
   "outputs": [],
   "source": [
    "Metrics['sMAPE'].mean()"
   ]
  },
  {
   "cell_type": "code",
   "execution_count": null,
   "metadata": {},
   "outputs": [],
   "source": [
    "Metrics['sMAPE'].resample('M').mean().plot()\n",
    "(100 * df['Price_DA'].loc['2018':'2022'].resample('M').std() / df['Price_DA'].loc['2018':'2022'].resample('M').mean()).plot()"
   ]
  },
  {
   "cell_type": "code",
   "execution_count": null,
   "metadata": {},
   "outputs": [],
   "source": [
    "(100 * df['Price_DA'].loc['2018':'2022'].resample('M').std() / df['Price_DA'].loc['2018':'2022'].resample('M').mean()).plot()"
   ]
  },
  {
   "cell_type": "code",
   "execution_count": null,
   "metadata": {},
   "outputs": [],
   "source": [
    "df['Price_DA'].loc['2020':'2021']"
   ]
  },
  {
   "cell_type": "code",
   "execution_count": null,
   "metadata": {},
   "outputs": [],
   "source": [
    "Predictions['Price_DA'].loc['2020':'2021']"
   ]
  },
  {
   "cell_type": "code",
   "execution_count": null,
   "metadata": {},
   "outputs": [],
   "source": [
    "sMAPE(df['Price_DA'].loc['2018':'2019'],Predictions['Price_DA'].loc['2018':'2019'] )"
   ]
  },
  {
   "cell_type": "code",
   "execution_count": null,
   "metadata": {},
   "outputs": [],
   "source": [
    "Metrics['MAE'].loc['2020':'2021'].mean()"
   ]
  },
  {
   "cell_type": "code",
   "execution_count": null,
   "metadata": {},
   "outputs": [],
   "source": []
  },
  {
   "cell_type": "code",
   "execution_count": null,
   "metadata": {},
   "outputs": [],
   "source": []
  },
  {
   "cell_type": "code",
   "execution_count": null,
   "metadata": {},
   "outputs": [],
   "source": []
  },
  {
   "cell_type": "code",
   "execution_count": null,
   "metadata": {},
   "outputs": [],
   "source": [
    "Metrics[:'2018'].mean()"
   ]
  },
  {
   "cell_type": "code",
   "execution_count": null,
   "metadata": {},
   "outputs": [],
   "source": [
    "study_name = zone + '_' + str(2018)"
   ]
  },
  {
   "cell_type": "code",
   "execution_count": null,
   "metadata": {},
   "outputs": [],
   "source": [
    "my_study = optuna.load_study(study_name=study_name, storage='sqlite:///hyperparameter_optimization_trials/' + study_name + '.db')"
   ]
  },
  {
   "cell_type": "code",
   "execution_count": null,
   "metadata": {},
   "outputs": [],
   "source": [
    "my_study.best_trial.user_attrs"
   ]
  },
  {
   "cell_type": "code",
   "execution_count": null,
   "metadata": {},
   "outputs": [],
   "source": [
    "df.loc['2018']['Price_DA']"
   ]
  },
  {
   "cell_type": "code",
   "execution_count": null,
   "metadata": {},
   "outputs": [],
   "source": [
    "Predictions.loc['2018']['Price_DA'].values"
   ]
  },
  {
   "cell_type": "code",
   "execution_count": null,
   "metadata": {},
   "outputs": [],
   "source": [
    "sMAPE(df.loc['2018']['Price_DA'], Predictions.loc['2018']['Price_DA'].values )"
   ]
  },
  {
   "cell_type": "code",
   "execution_count": null,
   "metadata": {},
   "outputs": [],
   "source": [
    "mean_absolute_error(df.loc['2018']['Price_DA'], Predictions.loc['2018']['Price_DA'].values )"
   ]
  },
  {
   "cell_type": "code",
   "execution_count": null,
   "metadata": {},
   "outputs": [],
   "source": [
    "test_predictions, test_MAE, test_sMAPE = naive_predict_over_horizon(df=df, horizon=df.loc['2018'])"
   ]
  },
  {
   "cell_type": "code",
   "execution_count": null,
   "metadata": {},
   "outputs": [],
   "source": [
    "test_MAE"
   ]
  },
  {
   "cell_type": "code",
   "execution_count": null,
   "metadata": {},
   "outputs": [],
   "source": [
    "plt.figure(figsize=(20,10))\n",
    "plt.plot(df['2018':]['Price_DA'].resample('W').mean())\n",
    "plt.plot(Predictions['Price_DA'].resample('W').mean())"
   ]
  },
  {
   "cell_type": "code",
   "execution_count": null,
   "metadata": {},
   "outputs": [],
   "source": [
    "plt.figure(figsize=(20,10))\n",
    "plt.plot(df.loc['2022']['Price_DA'])\n",
    "plt.plot(Predictions.loc['2022']['Price_DA'], alpha=0.5)"
   ]
  },
  {
   "cell_type": "code",
   "execution_count": null,
   "metadata": {},
   "outputs": [],
   "source": [
    "Metrics['rMAE'].resample('M').mean().plot()"
   ]
  },
  {
   "cell_type": "code",
   "execution_count": null,
   "metadata": {},
   "outputs": [],
   "source": [
    "Metrics['rMAE'].mean()"
   ]
  },
  {
   "cell_type": "code",
   "execution_count": null,
   "metadata": {},
   "outputs": [],
   "source": [
    "Predictions.loc['2019-06']"
   ]
  },
  {
   "cell_type": "code",
   "execution_count": null,
   "metadata": {},
   "outputs": [],
   "source": [
    "def calculate_smape(actual, forecast):\n",
    "    # Symmetric Mean Absolute Percentage Error\n",
    "    return 100 * 2 * np.abs(forecast - actual) / (np.abs(actual) + np.abs(forecast))"
   ]
  },
  {
   "cell_type": "code",
   "execution_count": null,
   "metadata": {},
   "outputs": [],
   "source": [
    "errors = pd.DataFrame(index = Predictions.index)"
   ]
  },
  {
   "cell_type": "code",
   "execution_count": null,
   "metadata": {},
   "outputs": [],
   "source": [
    "errors['sMAPE'] = [calculate_smape(actual, predicted) for actual, predicted in zip(df['Price_DA'].loc['2018':'2022'], Predictions['Price_DA'])]"
   ]
  },
  {
   "cell_type": "code",
   "execution_count": null,
   "metadata": {},
   "outputs": [],
   "source": [
    "errors['sMAPE'].mean()"
   ]
  },
  {
   "cell_type": "code",
   "execution_count": null,
   "metadata": {},
   "outputs": [],
   "source": [
    "Metrics['sMAPE'].mean()"
   ]
  },
  {
   "cell_type": "code",
   "execution_count": null,
   "metadata": {},
   "outputs": [],
   "source": []
  }
 ],
 "metadata": {
  "kernelspec": {
   "display_name": "Python 3 (ipykernel)",
   "language": "python",
   "name": "python3"
  },
  "language_info": {
   "codemirror_mode": {
    "name": "ipython",
    "version": 3
   },
   "file_extension": ".py",
   "mimetype": "text/x-python",
   "name": "python",
   "nbconvert_exporter": "python",
   "pygments_lexer": "ipython3",
   "version": "3.9.12"
  }
 },
 "nbformat": 4,
 "nbformat_minor": 2
}
